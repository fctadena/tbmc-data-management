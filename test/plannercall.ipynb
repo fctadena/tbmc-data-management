{
 "cells": [
  {
   "cell_type": "code",
   "execution_count": 1,
   "id": "0b50c7d6-86be-4311-983c-868255de4929",
   "metadata": {},
   "outputs": [],
   "source": [
    "import requests"
   ]
  },
  {
   "cell_type": "code",
   "execution_count": null,
   "id": "7f04ef7c",
   "metadata": {},
   "outputs": [],
   "source": [
    "base_url = \"https://app.asana.com/api/1.0\""
   ]
  },
  {
   "cell_type": "code",
   "execution_count": 3,
   "id": "f2a7a0cb-e5f3-413d-9fab-792603f63e73",
   "metadata": {},
   "outputs": [
    {
     "name": "stdout",
     "output_type": "stream",
     "text": [
      "{\"error\":{\"code\":\"InvalidAuthenticationToken\",\"message\":\"Access token is empty.\",\"innerError\":{\"date\":\"2024-08-05T04:15:08\",\"request-id\":\"6cd875bd-6fdd-471a-8b2d-c0b74bc769db\",\"client-request-id\":\"6cd875bd-6fdd-471a-8b2d-c0b74bc769db\"}}}\n"
     ]
    }
   ],
   "source": [
    "url = \"https://graph.microsoft.com/v1.0/me\"\n",
    "response = requests.get(url)\n",
    "\n",
    "print(response.text)\n",
    "\n"
   ]
  },
  {
   "cell_type": "code",
   "execution_count": null,
   "id": "789048d3-92ac-4b38-b1d3-37cccf7d2a39",
   "metadata": {},
   "outputs": [],
   "source": []
  }
 ],
 "metadata": {
  "kernelspec": {
   "display_name": "Python 3 (ipykernel)",
   "language": "python",
   "name": "python3"
  },
  "language_info": {
   "codemirror_mode": {
    "name": "ipython",
    "version": 3
   },
   "file_extension": ".py",
   "mimetype": "text/x-python",
   "name": "python",
   "nbconvert_exporter": "python",
   "pygments_lexer": "ipython3",
   "version": "3.11.7"
  }
 },
 "nbformat": 4,
 "nbformat_minor": 5
}
