{
 "cells": [
  {
   "cell_type": "code",
   "execution_count": 20,
   "metadata": {},
   "outputs": [],
   "source": [
    "import requests\n",
    "from bs4 import BeautifulSoup\n",
    "import pandas as pd\n",
    "import re"
   ]
  },
  {
   "cell_type": "code",
   "execution_count": 26,
   "metadata": {},
   "outputs": [
    {
     "name": "stdout",
     "output_type": "stream",
     "text": [
      "68.0\n",
      "<class 'float'>\n"
     ]
    }
   ],
   "source": [
    "price_source = requests.get(\"https://vertexpowertools.com/products/tyrolit-cutting-disc-4-for-metal-basic\")\n",
    "soup_price_source = BeautifulSoup(price_source.text, 'html')\n",
    "numeric_price = float(re.sub(r'[^\\d.]+', '', soup_price_source.find('span', class_ =\"current-price theme-money\").text.strip()))\n",
    "print(numeric_price)\n",
    "print(type(numeric_price))"
   ]
  },
  {
   "cell_type": "code",
   "execution_count": 28,
   "metadata": {},
   "outputs": [
    {
     "data": {
      "text/plain": [
       "'PHP3,394.26'"
      ]
     },
     "execution_count": 28,
     "metadata": {},
     "output_type": "execute_result"
    }
   ],
   "source": [
    "price_source2 = requests.get(\"https://ph.rs-online.com/web/p/drill-bit-sets/0213001\")\n",
    "soup_price_source2 = BeautifulSoup(price_source2.text, 'html')\n",
    "# soup_price_source2.find('p', class_='break-all', attrs={'data-testid': 'price-exc-vat'}).text.strip()\n",
    "soup_price_source2.find('p', attrs={'class': 'break-all', 'data-testid': 'price-exc-vat'}).text.strip()\n",
    "\n"
   ]
  },
  {
   "cell_type": "code",
   "execution_count": 23,
   "metadata": {},
   "outputs": [
    {
     "name": "stdout",
     "output_type": "stream",
     "text": [
      "Price element not found\n"
     ]
    }
   ],
   "source": [
    "price_source3 = requests.get(\"https://shopee.ph/Tig-Clean-Paste-1lmb-i.293180069.10906126177\")\n",
    "soup_price_source3 = BeautifulSoup(price_source3.text, 'html.parser')\n",
    "price_element = soup_price_source3.find('div', class_='G27FPf')\n",
    "\n",
    "if price_element:\n",
    "    price_text = price_element.get_text(strip=True)\n",
    "    print(price_text)\n",
    "else:\n",
    "    print(\"Price element not found\")"
   ]
  }
 ],
 "metadata": {
  "kernelspec": {
   "display_name": "base",
   "language": "python",
   "name": "python3"
  },
  "language_info": {
   "codemirror_mode": {
    "name": "ipython",
    "version": 3
   },
   "file_extension": ".py",
   "mimetype": "text/x-python",
   "name": "python",
   "nbconvert_exporter": "python",
   "pygments_lexer": "ipython3",
   "version": "3.9.7"
  }
 },
 "nbformat": 4,
 "nbformat_minor": 2
}
