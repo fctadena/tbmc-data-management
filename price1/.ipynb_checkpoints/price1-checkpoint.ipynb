{
 "cells": [
  {
   "cell_type": "code",
   "execution_count": 97,
   "metadata": {},
   "outputs": [],
   "source": [
    "#1. CREATE EXCEL FILE CALLED \"TBMC_ITEMS_TO_MONITOR.xlsx\" AS BASE SOURCE OF DATA FOR PRICE TO MONITOR, URL AND OTHER DATA.\n",
    "#2. DEVELOP THE APP\n",
    "#2.X SAVE/UPDATE THE RESULT TO AN EXCEL FILE CALLED \"PRICE_RECORDINGS.xlsx\"\n",
    "#3. USE AIRFLOW TO SCHEDULE THE TASK"
   ]
  },
  {
   "cell_type": "code",
   "execution_count": 178,
   "metadata": {},
   "outputs": [],
   "source": [
    "import pandas as pd\n",
    "import time"
   ]
  },
  {
   "cell_type": "code",
   "execution_count": 179,
   "metadata": {},
   "outputs": [],
   "source": [
    "#2. DEVELOP THE APP\n",
    "#2.1 create necessary variables, flags & dataframe for scrapped data \"scrapped_data_df\"\n",
    "file_path = \"TBMC_ITEMS_TO_MONITOR.xlsx\"\n",
    "columns = ['description', 'type', 'url', 'price', 'date_stamp']\n",
    "scrapped_data_df = pd.DataFrame(columns=columns)"
   ]
  },
  {
   "cell_type": "code",
   "execution_count": 180,
   "metadata": {
    "scrolled": true
   },
   "outputs": [],
   "source": [
    "#2.2 xlsx to dict - initialize the process by storing the required items (products to monitor) in dictionary called \"products\"\n",
    "def read_excel_file(file_path):\n",
    "    try:\n",
    "        df = pd.read_excel(file_path)\n",
    "    except FileNotFoundError:\n",
    "        print(\"File not found.\")\n",
    "        return {}\n",
    "    \n",
    "    expected_headers = [\"description\", \"type\", \"url\"]\n",
    "    actual_headers = df.columns.tolist()\n",
    "    \n",
    "    if actual_headers != expected_headers:\n",
    "        print(\"Headers are not as expected.\")\n",
    "        return {}\n",
    "    \n",
    "    products = []\n",
    "    for index, row in df.iterrows():\n",
    "        description = row[\"description\"]\n",
    "        product_type = row[\"type\"]\n",
    "        url = row[\"url\"]\n",
    "        \n",
    "        product = {\n",
    "            \"description\": description,\n",
    "            \"type\": product_type,\n",
    "            \"url\": url\n",
    "        }\n",
    "        \n",
    "        products.append(product)\n",
    "    \n",
    "    return products"
   ]
  },
  {
   "cell_type": "code",
   "execution_count": 181,
   "metadata": {
    "scrolled": true
   },
   "outputs": [],
   "source": [
    "# #2.3 main_processor - loop through the dict, perform scrapping, and add records to scrapped_data_df\n",
    "def core_func(products):\n",
    "    # columns = [\"description\", \"type\", \"url\", \"price\", \"time_stamp\", \"status\"]\n",
    "    columns = [\"description\", \"type\", \"url\"]\n",
    "    scrapped_data_df = pd.DataFrame(columns=columns)\n",
    "\n",
    "    \n",
    "    \n",
    "    for i in products:\n",
    "        #Generate \"price\", \"time_stamp\" and \"status\" here.!!!\n",
    "        \n",
    "        new_row = [\n",
    "            i['description'],\n",
    "            i['type'],\n",
    "            i['url']\n",
    "        ]\n",
    "\n",
    "        scrapped_data_df.loc[len(scrapped_data_df)] = new_row\n",
    "    \n",
    "    return scrapped_data_df"
   ]
  },
  {
   "cell_type": "code",
   "execution_count": 184,
   "metadata": {},
   "outputs": [],
   "source": [
    "#2.4 append (or create PRICE_RECORDINGS.xlsx) using the dataframe\n",
    "def update_price_recordings(scrapped_data_df):\n",
    "    # Define the expected columns\n",
    "    # expected_columns = [\"description\", \"type\", \"url\", \"price\", \"time_stamp\", \"status\"]\n",
    "    expected_columns = [\"description\", \"type\", \"url\"]\n",
    "    # Check if all the expected columns are present in the dataframe\n",
    "    if set(expected_columns).issubset(scrapped_data_df.columns):\n",
    "        # Append the scrapped_data_df dataframe to the existing excel file\n",
    "        # scrapped_data_df.to_excel(\"PRICE_RECORDINGS.xlsx\", index=False, mode='a', header=False)\n",
    "        scrapped_data_df.to_excel(\"PRICE_RECORDINGS.xlsx\", index=False, header=False)\n",
    "        print(\"Excel file updated successfully.\")\n",
    "    else:\n",
    "        missing_columns = set(expected_columns) - set(scrapped_data_df.columns)\n",
    "        print(f\"Error: Missing columns in the dataframe: {missing_columns}\")\n"
   ]
  },
  {
   "cell_type": "code",
   "execution_count": 185,
   "metadata": {},
   "outputs": [
    {
     "name": "stdout",
     "output_type": "stream",
     "text": [
      "Excel file updated successfully.\n"
     ]
    }
   ],
   "source": [
    "#2.5 create main function \n",
    "def main():\n",
    "    # # 2.1 create necessary variables, flags & dataframe for scrapped data \"scrapped_data_df\"\n",
    "    # file_path = \"TBMC_ITEMS_TO_MONITOR.xlsx\"\n",
    "    # columns = ['description', 'type', 'url', 'price', 'date_stamp']\n",
    " \n",
    "\n",
    "    # scrapped_data_df = pd.DataFrame(columns=columns)\n",
    "\n",
    "    # 2.2 xlsx to dict - initialize the process by storing the required items (products to monitor) in dictionary called \"products\"\n",
    "    products = read_excel_file(file_path)\n",
    "\n",
    "    # 2.3 main_processor - loop through the dict, perform scrapping, and add records to scrapped_data_df\n",
    "    scrapped_data_df = core_func(products)\n",
    "\n",
    "    # 2.4 append (or create PRICE_RECORDINGS.xlsx) using the dataframe\n",
    "    update_price_recordings(scrapped_data_df)\n",
    "\n",
    "if __name__ == \"__main__\":\n",
    "    main()"
   ]
  },
  {
   "cell_type": "code",
   "execution_count": 146,
   "metadata": {},
   "outputs": [],
   "source": [
    "#3. USE AIRFLOW TO SCHEDULE THE TASK\n",
    "\n",
    "#OTHER NOTES TO CONSIDER\n",
    "# If getting the data on the url has failed, handle it.\n"
   ]
  },
  {
   "cell_type": "code",
   "execution_count": null,
   "metadata": {},
   "outputs": [],
   "source": []
  }
 ],
 "metadata": {
  "kernelspec": {
   "display_name": "Python 3 (ipykernel)",
   "language": "python",
   "name": "python3"
  },
  "language_info": {
   "codemirror_mode": {
    "name": "ipython",
    "version": 3
   },
   "file_extension": ".py",
   "mimetype": "text/x-python",
   "name": "python",
   "nbconvert_exporter": "python",
   "pygments_lexer": "ipython3",
   "version": "3.11.7"
  }
 },
 "nbformat": 4,
 "nbformat_minor": 4
}
