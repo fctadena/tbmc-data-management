{
 "cells": [
  {
   "cell_type": "code",
   "execution_count": 45,
   "metadata": {},
   "outputs": [],
   "source": [
    "#1. CREATE EXCEL FILE CALLED \"TBMC_ITEMS_TO_MONITOR.xlsx\" AS BASE SOURCE OF DATA FOR PRICE TO MONITOR, URL AND OTHER DATA.\n",
    "#2. DEVELOP THE APP\n",
    "#2.X SAVE/UPDATE THE RESULT TO AN EXCEL FILE CALLED \"PRICE_RECORDINGS.xlsx\"\n",
    "#3. USE AIRFLOW TO SCHEDULE THE TASK"
   ]
  },
  {
   "cell_type": "code",
   "execution_count": 46,
   "metadata": {},
   "outputs": [],
   "source": [
    "import pandas as pd\n",
    "import time\n",
    "import os\n",
    "from datetime import datetime\n",
    "from openpyxl import load_workbook"
   ]
  },
  {
   "cell_type": "code",
   "execution_count": 47,
   "metadata": {},
   "outputs": [
    {
     "data": {
      "text/plain": [
       "'2.2.2'"
      ]
     },
     "execution_count": 47,
     "metadata": {},
     "output_type": "execute_result"
    }
   ],
   "source": [
    "pd.__version__"
   ]
  },
  {
   "cell_type": "code",
   "execution_count": 48,
   "metadata": {},
   "outputs": [],
   "source": [
    "#2. DEVELOP THE APP\n",
    "#2.1 create necessary variables, flags & dataframe for scrapped data \"scrapped_data_df\"\n",
    "file_path = \"TBMC_ITEMS_TO_MONITOR.xlsx\"\n",
    "columns = ['description', 'type', 'url', 'price', 'date_stamp']\n",
    "scrapped_data_df = pd.DataFrame(columns=columns)"
   ]
  },
  {
   "cell_type": "code",
   "execution_count": 49,
   "metadata": {
    "scrolled": true
   },
   "outputs": [],
   "source": [
    "#2.2 xlsx to dict - initialize the process by storing the required items (products to monitor) in dictionary called \"products\"\n",
    "def read_excel_file(file_path):\n",
    "    try:\n",
    "        df = pd.read_excel(file_path)\n",
    "    except FileNotFoundError:\n",
    "        print(\"File not found.\")\n",
    "        return {}\n",
    "    \n",
    "    expected_headers = [\"description\", \"type\", \"url\"]\n",
    "    actual_headers = df.columns.tolist()\n",
    "    \n",
    "    if actual_headers != expected_headers:\n",
    "        print(\"Headers are not as expected.\")\n",
    "        return {}\n",
    "    \n",
    "    products = []\n",
    "    for index, row in df.iterrows():\n",
    "        description = row[\"description\"]\n",
    "        product_type = row[\"type\"]\n",
    "        url = row[\"url\"]\n",
    "        \n",
    "        product = {\n",
    "            \"description\": description,\n",
    "            \"type\": product_type,\n",
    "            \"url\": url\n",
    "        }\n",
    "        \n",
    "        products.append(product)\n",
    "    \n",
    "    return products"
   ]
  },
  {
   "cell_type": "code",
   "execution_count": 50,
   "metadata": {
    "scrolled": true
   },
   "outputs": [],
   "source": [
    "# #2.3 main_processor - loop through the dict, perform scrapping, and add records to scrapped_data_df\n",
    "def core_func(products):\n",
    "    # columns = [\"description\", \"type\", \"url\", \"price\", \"time_stamp\", \"status\"]\n",
    "    columns = [\"description\", \"type\", \"url\", \"time_stamp\"]\n",
    "    scrapped_data_df = pd.DataFrame(columns=columns)\n",
    "\n",
    "    \n",
    "    \n",
    "    for i in products:\n",
    "        #Generate \"price\", \"time_stamp\" and \"status\" here.!!!\n",
    "        current_time_stamp = datetime.now().strftime('%Y-%m-%d %H:%M:%S')\n",
    "        new_row = [\n",
    "            i['description'],\n",
    "            i['type'],\n",
    "            i['url'],\n",
    "            current_time_stamp\n",
    "        ]\n",
    "\n",
    "        scrapped_data_df.loc[len(scrapped_data_df)] = new_row\n",
    "    \n",
    "    return scrapped_data_df"
   ]
  },
  {
   "cell_type": "code",
   "execution_count": 51,
   "metadata": {},
   "outputs": [],
   "source": [
    "#2.4 append (or create PRICE_RECORDINGS.xlsx) using the dataframe\n",
    "# def update_price_recordings(scrapped_data_df):\n",
    "#     file_name=\"PRICE_RECORDINGS4.xlsx\"\n",
    "#     sheet_name = 'Sheet1'\n",
    "    \n",
    "#     # Check if the file exists\n",
    "#     if not os.path.exists(file_name):\n",
    "#         # If the file does not exist, create it and write the scrapped_data_df to it\n",
    "#         with pd.ExcelWriter(file_name, engine='openpyxl') as writer:\n",
    "#             scrapped_data_df.to_excel(writer, index=False, sheet_name=sheet_name)\n",
    "#     else:\n",
    "#         # If the file exists, load it and append the data\n",
    "#         book = load_workbook(file_name)\n",
    "#         writer = pd.ExcelWriter(file_name, engine='openpyxl')\n",
    "#         writer.book = book\n",
    "        \n",
    "#         # Check if the specified sheet exists\n",
    "#         if sheet_name in book.sheetnames:\n",
    "#             # Get the last row in the existing Excel sheet\n",
    "#             startrow = book[sheet_name].max_row\n",
    "#         else:\n",
    "#             startrow = 0\n",
    "        \n",
    "#         # Append the data\n",
    "#         scrapped_data_df.to_excel(writer, startrow=startrow, index=False, header=startrow==0, sheet_name=sheet_name)\n",
    "        \n",
    "#         # Save and close the file\n",
    "#         writer.close()\n",
    "\n",
    "def update_price_recordings(scrapped_data_df):\n",
    "    file_name = \"PRICE_RECORDINGS6.xlsx\"\n",
    "    sheet_name = 'Sheet1'\n",
    "    \n",
    "    # Check if the file exists\n",
    "    if not os.path.exists(file_name):\n",
    "        # If the file does not exist, create it and write the scrapped_data_df to it\n",
    "        with pd.ExcelWriter(file_name, engine='openpyxl') as writer:\n",
    "            scrapped_data_df.to_excel(writer, index=False, sheet_name=sheet_name)\n",
    "    else:\n",
    "        # If the file exists, load it and append the data\n",
    "        book = load_workbook(file_name)\n",
    "        \n",
    "        # Ensure at least one sheet is visible\n",
    "        if all(sheet.sheet_state == 'hidden' for sheet in book.worksheets):\n",
    "            book.create_sheet(title=sheet_name)\n",
    "        \n",
    "        with pd.ExcelWriter(file_name, engine='openpyxl') as writer:\n",
    "            writer.book = book\n",
    "            writer.sheets = {ws.title: ws for ws in book.worksheets}\n",
    "            \n",
    "            # Check if the specified sheet exists\n",
    "            if sheet_name in writer.sheets:\n",
    "                # Get the last row in the existing Excel sheet\n",
    "                startrow = writer.sheets[sheet_name].max_row\n",
    "            else:\n",
    "                startrow = 0\n",
    "            \n",
    "            # Append the data\n",
    "            scrapped_data_df.to_excel(writer, startrow=startrow, index=False, header=startrow==0, sheet_name=sheet_name)\n",
    "            \n",
    "            # Save and close the file\n",
    "            writer.save()"
   ]
  },
  {
   "cell_type": "code",
   "execution_count": 52,
   "metadata": {},
   "outputs": [
    {
     "ename": "BadZipFile",
     "evalue": "File is not a zip file",
     "output_type": "error",
     "traceback": [
      "\u001b[1;31m---------------------------------------------------------------------------\u001b[0m",
      "\u001b[1;31mBadZipFile\u001b[0m                                Traceback (most recent call last)",
      "Cell \u001b[1;32mIn[52], line 20\u001b[0m\n\u001b[0;32m     17\u001b[0m     update_price_recordings(scrapped_data_df)\n\u001b[0;32m     19\u001b[0m \u001b[38;5;28;01mif\u001b[39;00m \u001b[38;5;18m__name__\u001b[39m \u001b[38;5;241m==\u001b[39m \u001b[38;5;124m\"\u001b[39m\u001b[38;5;124m__main__\u001b[39m\u001b[38;5;124m\"\u001b[39m:\n\u001b[1;32m---> 20\u001b[0m     \u001b[43mmain\u001b[49m\u001b[43m(\u001b[49m\u001b[43m)\u001b[49m\n",
      "Cell \u001b[1;32mIn[52], line 17\u001b[0m, in \u001b[0;36mmain\u001b[1;34m()\u001b[0m\n\u001b[0;32m     14\u001b[0m scrapped_data_df \u001b[38;5;241m=\u001b[39m core_func(products)\n\u001b[0;32m     16\u001b[0m \u001b[38;5;66;03m# 2.4 append (or create PRICE_RECORDINGS.xlsx) using the dataframe\u001b[39;00m\n\u001b[1;32m---> 17\u001b[0m \u001b[43mupdate_price_recordings\u001b[49m\u001b[43m(\u001b[49m\u001b[43mscrapped_data_df\u001b[49m\u001b[43m)\u001b[49m\n",
      "Cell \u001b[1;32mIn[51], line 41\u001b[0m, in \u001b[0;36mupdate_price_recordings\u001b[1;34m(scrapped_data_df)\u001b[0m\n\u001b[0;32m     38\u001b[0m         scrapped_data_df\u001b[38;5;241m.\u001b[39mto_excel(writer, index\u001b[38;5;241m=\u001b[39m\u001b[38;5;28;01mFalse\u001b[39;00m, sheet_name\u001b[38;5;241m=\u001b[39msheet_name)\n\u001b[0;32m     39\u001b[0m \u001b[38;5;28;01melse\u001b[39;00m:\n\u001b[0;32m     40\u001b[0m     \u001b[38;5;66;03m# If the file exists, load it and append the data\u001b[39;00m\n\u001b[1;32m---> 41\u001b[0m     book \u001b[38;5;241m=\u001b[39m \u001b[43mload_workbook\u001b[49m\u001b[43m(\u001b[49m\u001b[43mfile_name\u001b[49m\u001b[43m)\u001b[49m\n\u001b[0;32m     43\u001b[0m     \u001b[38;5;66;03m# Ensure at least one sheet is visible\u001b[39;00m\n\u001b[0;32m     44\u001b[0m     \u001b[38;5;28;01mif\u001b[39;00m \u001b[38;5;28mall\u001b[39m(sheet\u001b[38;5;241m.\u001b[39msheet_state \u001b[38;5;241m==\u001b[39m \u001b[38;5;124m'\u001b[39m\u001b[38;5;124mhidden\u001b[39m\u001b[38;5;124m'\u001b[39m \u001b[38;5;28;01mfor\u001b[39;00m sheet \u001b[38;5;129;01min\u001b[39;00m book\u001b[38;5;241m.\u001b[39mworksheets):\n",
      "File \u001b[1;32mc:\\Users\\Francis\\00_ML\\00_Power BI\\docu1\\env\\lib\\site-packages\\openpyxl\\reader\\excel.py:346\u001b[0m, in \u001b[0;36mload_workbook\u001b[1;34m(filename, read_only, keep_vba, data_only, keep_links, rich_text)\u001b[0m\n\u001b[0;32m    316\u001b[0m \u001b[38;5;28;01mdef\u001b[39;00m \u001b[38;5;21mload_workbook\u001b[39m(filename, read_only\u001b[38;5;241m=\u001b[39m\u001b[38;5;28;01mFalse\u001b[39;00m, keep_vba\u001b[38;5;241m=\u001b[39mKEEP_VBA,\n\u001b[0;32m    317\u001b[0m                   data_only\u001b[38;5;241m=\u001b[39m\u001b[38;5;28;01mFalse\u001b[39;00m, keep_links\u001b[38;5;241m=\u001b[39m\u001b[38;5;28;01mTrue\u001b[39;00m, rich_text\u001b[38;5;241m=\u001b[39m\u001b[38;5;28;01mFalse\u001b[39;00m):\n\u001b[0;32m    318\u001b[0m \u001b[38;5;250m    \u001b[39m\u001b[38;5;124;03m\"\"\"Open the given filename and return the workbook\u001b[39;00m\n\u001b[0;32m    319\u001b[0m \n\u001b[0;32m    320\u001b[0m \u001b[38;5;124;03m    :param filename: the path to open or a file-like object\u001b[39;00m\n\u001b[1;32m   (...)\u001b[0m\n\u001b[0;32m    344\u001b[0m \n\u001b[0;32m    345\u001b[0m \u001b[38;5;124;03m    \"\"\"\u001b[39;00m\n\u001b[1;32m--> 346\u001b[0m     reader \u001b[38;5;241m=\u001b[39m \u001b[43mExcelReader\u001b[49m\u001b[43m(\u001b[49m\u001b[43mfilename\u001b[49m\u001b[43m,\u001b[49m\u001b[43m \u001b[49m\u001b[43mread_only\u001b[49m\u001b[43m,\u001b[49m\u001b[43m \u001b[49m\u001b[43mkeep_vba\u001b[49m\u001b[43m,\u001b[49m\n\u001b[0;32m    347\u001b[0m \u001b[43m                         \u001b[49m\u001b[43mdata_only\u001b[49m\u001b[43m,\u001b[49m\u001b[43m \u001b[49m\u001b[43mkeep_links\u001b[49m\u001b[43m,\u001b[49m\u001b[43m \u001b[49m\u001b[43mrich_text\u001b[49m\u001b[43m)\u001b[49m\n\u001b[0;32m    348\u001b[0m     reader\u001b[38;5;241m.\u001b[39mread()\n\u001b[0;32m    349\u001b[0m     \u001b[38;5;28;01mreturn\u001b[39;00m reader\u001b[38;5;241m.\u001b[39mwb\n",
      "File \u001b[1;32mc:\\Users\\Francis\\00_ML\\00_Power BI\\docu1\\env\\lib\\site-packages\\openpyxl\\reader\\excel.py:123\u001b[0m, in \u001b[0;36mExcelReader.__init__\u001b[1;34m(self, fn, read_only, keep_vba, data_only, keep_links, rich_text)\u001b[0m\n\u001b[0;32m    121\u001b[0m \u001b[38;5;28;01mdef\u001b[39;00m \u001b[38;5;21m__init__\u001b[39m(\u001b[38;5;28mself\u001b[39m, fn, read_only\u001b[38;5;241m=\u001b[39m\u001b[38;5;28;01mFalse\u001b[39;00m, keep_vba\u001b[38;5;241m=\u001b[39mKEEP_VBA,\n\u001b[0;32m    122\u001b[0m              data_only\u001b[38;5;241m=\u001b[39m\u001b[38;5;28;01mFalse\u001b[39;00m, keep_links\u001b[38;5;241m=\u001b[39m\u001b[38;5;28;01mTrue\u001b[39;00m, rich_text\u001b[38;5;241m=\u001b[39m\u001b[38;5;28;01mFalse\u001b[39;00m):\n\u001b[1;32m--> 123\u001b[0m     \u001b[38;5;28mself\u001b[39m\u001b[38;5;241m.\u001b[39marchive \u001b[38;5;241m=\u001b[39m \u001b[43m_validate_archive\u001b[49m\u001b[43m(\u001b[49m\u001b[43mfn\u001b[49m\u001b[43m)\u001b[49m\n\u001b[0;32m    124\u001b[0m     \u001b[38;5;28mself\u001b[39m\u001b[38;5;241m.\u001b[39mvalid_files \u001b[38;5;241m=\u001b[39m \u001b[38;5;28mself\u001b[39m\u001b[38;5;241m.\u001b[39marchive\u001b[38;5;241m.\u001b[39mnamelist()\n\u001b[0;32m    125\u001b[0m     \u001b[38;5;28mself\u001b[39m\u001b[38;5;241m.\u001b[39mread_only \u001b[38;5;241m=\u001b[39m read_only\n",
      "File \u001b[1;32mc:\\Users\\Francis\\00_ML\\00_Power BI\\docu1\\env\\lib\\site-packages\\openpyxl\\reader\\excel.py:95\u001b[0m, in \u001b[0;36m_validate_archive\u001b[1;34m(filename)\u001b[0m\n\u001b[0;32m     88\u001b[0m             msg \u001b[38;5;241m=\u001b[39m (\u001b[38;5;124m'\u001b[39m\u001b[38;5;124mopenpyxl does not support \u001b[39m\u001b[38;5;132;01m%s\u001b[39;00m\u001b[38;5;124m file format, \u001b[39m\u001b[38;5;124m'\u001b[39m\n\u001b[0;32m     89\u001b[0m                    \u001b[38;5;124m'\u001b[39m\u001b[38;5;124mplease check you can open \u001b[39m\u001b[38;5;124m'\u001b[39m\n\u001b[0;32m     90\u001b[0m                    \u001b[38;5;124m'\u001b[39m\u001b[38;5;124mit with Excel first. \u001b[39m\u001b[38;5;124m'\u001b[39m\n\u001b[0;32m     91\u001b[0m                    \u001b[38;5;124m'\u001b[39m\u001b[38;5;124mSupported formats are: \u001b[39m\u001b[38;5;132;01m%s\u001b[39;00m\u001b[38;5;124m'\u001b[39m) \u001b[38;5;241m%\u001b[39m (file_format,\n\u001b[0;32m     92\u001b[0m                                                    \u001b[38;5;124m'\u001b[39m\u001b[38;5;124m,\u001b[39m\u001b[38;5;124m'\u001b[39m\u001b[38;5;241m.\u001b[39mjoin(SUPPORTED_FORMATS))\n\u001b[0;32m     93\u001b[0m         \u001b[38;5;28;01mraise\u001b[39;00m InvalidFileException(msg)\n\u001b[1;32m---> 95\u001b[0m archive \u001b[38;5;241m=\u001b[39m \u001b[43mZipFile\u001b[49m\u001b[43m(\u001b[49m\u001b[43mfilename\u001b[49m\u001b[43m,\u001b[49m\u001b[43m \u001b[49m\u001b[38;5;124;43m'\u001b[39;49m\u001b[38;5;124;43mr\u001b[39;49m\u001b[38;5;124;43m'\u001b[39;49m\u001b[43m)\u001b[49m\n\u001b[0;32m     96\u001b[0m \u001b[38;5;28;01mreturn\u001b[39;00m archive\n",
      "File \u001b[1;32mc:\\users\\francis\\appdata\\local\\programs\\python\\python39\\lib\\zipfile.py:1257\u001b[0m, in \u001b[0;36mZipFile.__init__\u001b[1;34m(self, file, mode, compression, allowZip64, compresslevel, strict_timestamps)\u001b[0m\n\u001b[0;32m   1255\u001b[0m \u001b[38;5;28;01mtry\u001b[39;00m:\n\u001b[0;32m   1256\u001b[0m     \u001b[38;5;28;01mif\u001b[39;00m mode \u001b[38;5;241m==\u001b[39m \u001b[38;5;124m'\u001b[39m\u001b[38;5;124mr\u001b[39m\u001b[38;5;124m'\u001b[39m:\n\u001b[1;32m-> 1257\u001b[0m         \u001b[38;5;28;43mself\u001b[39;49m\u001b[38;5;241;43m.\u001b[39;49m\u001b[43m_RealGetContents\u001b[49m\u001b[43m(\u001b[49m\u001b[43m)\u001b[49m\n\u001b[0;32m   1258\u001b[0m     \u001b[38;5;28;01melif\u001b[39;00m mode \u001b[38;5;129;01min\u001b[39;00m (\u001b[38;5;124m'\u001b[39m\u001b[38;5;124mw\u001b[39m\u001b[38;5;124m'\u001b[39m, \u001b[38;5;124m'\u001b[39m\u001b[38;5;124mx\u001b[39m\u001b[38;5;124m'\u001b[39m):\n\u001b[0;32m   1259\u001b[0m         \u001b[38;5;66;03m# set the modified flag so central directory gets written\u001b[39;00m\n\u001b[0;32m   1260\u001b[0m         \u001b[38;5;66;03m# even if no files are added to the archive\u001b[39;00m\n\u001b[0;32m   1261\u001b[0m         \u001b[38;5;28mself\u001b[39m\u001b[38;5;241m.\u001b[39m_didModify \u001b[38;5;241m=\u001b[39m \u001b[38;5;28;01mTrue\u001b[39;00m\n",
      "File \u001b[1;32mc:\\users\\francis\\appdata\\local\\programs\\python\\python39\\lib\\zipfile.py:1324\u001b[0m, in \u001b[0;36mZipFile._RealGetContents\u001b[1;34m(self)\u001b[0m\n\u001b[0;32m   1322\u001b[0m     \u001b[38;5;28;01mraise\u001b[39;00m BadZipFile(\u001b[38;5;124m\"\u001b[39m\u001b[38;5;124mFile is not a zip file\u001b[39m\u001b[38;5;124m\"\u001b[39m)\n\u001b[0;32m   1323\u001b[0m \u001b[38;5;28;01mif\u001b[39;00m \u001b[38;5;129;01mnot\u001b[39;00m endrec:\n\u001b[1;32m-> 1324\u001b[0m     \u001b[38;5;28;01mraise\u001b[39;00m BadZipFile(\u001b[38;5;124m\"\u001b[39m\u001b[38;5;124mFile is not a zip file\u001b[39m\u001b[38;5;124m\"\u001b[39m)\n\u001b[0;32m   1325\u001b[0m \u001b[38;5;28;01mif\u001b[39;00m \u001b[38;5;28mself\u001b[39m\u001b[38;5;241m.\u001b[39mdebug \u001b[38;5;241m>\u001b[39m \u001b[38;5;241m1\u001b[39m:\n\u001b[0;32m   1326\u001b[0m     \u001b[38;5;28mprint\u001b[39m(endrec)\n",
      "\u001b[1;31mBadZipFile\u001b[0m: File is not a zip file"
     ]
    }
   ],
   "source": [
    "#2.5 create main function \n",
    "def main():\n",
    "    # # 2.1 create necessary variables, flags & dataframe for scrapped data \"scrapped_data_df\"\n",
    "    # file_path = \"TBMC_ITEMS_TO_MONITOR.xlsx\"\n",
    "    # columns = ['description', 'type', 'url', 'price', 'date_stamp']\n",
    " \n",
    "\n",
    "    # scrapped_data_df = pd.DataFrame(columns=columns)\n",
    "\n",
    "    # 2.2 xlsx to dict - initialize the process by storing the required items (products to monitor) in dictionary called \"products\"\n",
    "    products = read_excel_file(file_path)\n",
    "\n",
    "    # 2.3 main_processor - loop through the dict, perform scrapping, and add records to scrapped_data_df\n",
    "    scrapped_data_df = core_func(products)\n",
    "\n",
    "    # 2.4 append (or create PRICE_RECORDINGS.xlsx) using the dataframe\n",
    "    update_price_recordings(scrapped_data_df)\n",
    "\n",
    "if __name__ == \"__main__\":\n",
    "    main()"
   ]
  },
  {
   "cell_type": "code",
   "execution_count": 86,
   "metadata": {},
   "outputs": [],
   "source": [
    "#3. USE AIRFLOW TO SCHEDULE THE TASK\n",
    "\n",
    "#OTHER NOTES TO CONSIDER\n",
    "# If getting the data on the url has failed, handle it.\n"
   ]
  },
  {
   "cell_type": "code",
   "execution_count": 87,
   "metadata": {},
   "outputs": [],
   "source": [
    "# def update_price_recordings(scrapped_data_df):\n",
    "#     # Define the file name\n",
    "#     file_name = 'PRICE_RECORDINGS.xlsx'\n",
    "\n",
    "#     # Check if the file exists\n",
    "#     file_exists = os.path.exists(file_name)\n",
    "\n",
    "#     if file_exists:\n",
    "#         # Load existing data to check for duplicate records\n",
    "#         existing_df = pd.read_excel(file_name)\n",
    "#         new_records = scrapped_data_df #!!!!!!\n",
    "#         # Identify new records that are not in the existing data\n",
    "# #         new_records = scrapped_data_df[~scrapped_data_df['ID'].isin(existing_df['ID'])]\n",
    "#     else:\n",
    "#         # If file doesn't exist, all records are new\n",
    "#         new_records = scrapped_data_df\n",
    "\n",
    "#     # Append new records to the Excel file\n",
    "#     with pd.ExcelWriter(file_name, mode='a', engine='openpyxl', if_sheet_exists='overlay') as writer:\n",
    "\n",
    "#         if file_exists:\n",
    "#             startrow = writer.sheets['Sheet1'].max_row\n",
    "#         else:\n",
    "#             startrow = 0\n",
    "#         new_records.to_excel(writer, index=False, header=not file_exists, startrow=startrow)\n",
    "\n",
    "#     print(f\"Records have been updated and saved to {file_name}\")\n",
    "\n",
    "\n",
    "\n",
    "# def update_price_recordings(scrapped_data_df):\n",
    "#     # Define the file name\n",
    "#     file_name = 'PRICE_RECORDINGS3.xlsx'\n",
    "\n",
    "#     # Check if the file exists\n",
    "#     file_exists = os.path.exists(file_name)\n",
    "\n",
    "#     if file_exists:\n",
    "#         # Load existing data to check for duplicate records\n",
    "#         existing_df = pd.read_excel(file_name, engine='openpyxl')\n",
    "#         # Identify new records that are not in the existing data\n",
    "# #         new_records = scrapped_data_df[~scrapped_data_df['ID'].isin(existing_df['ID'])]\n",
    "#     else:\n",
    "#         # If file doesn't exist, all records are new\n",
    "#         new_records = scrapped_data_df\n",
    "\n",
    "#     # Append new records to the Excel file\n",
    "#     with pd.ExcelWriter(file_name, engine='openpyxl', mode='a', if_sheet_exists='new') as writer:\n",
    "#         if file_exists:\n",
    "#             # Write existing data and get the last row\n",
    "#             existing_df.to_excel(writer, index=False, sheet_name='Sheet1', startrow=0)\n",
    "#             startrow = len(existing_df) + 1\n",
    "#         else:\n",
    "#             startrow = 0\n",
    "#         new_records.to_excel(writer, index=False, header=not file_exists, startrow=startrow, sheet_name='Sheet1')\n",
    "\n",
    "#     print(f\"Records have been updated and saved to {file_name}\")\n",
    "\n"
   ]
  }
 ],
 "metadata": {
  "kernelspec": {
   "display_name": "qout1_venv",
   "language": "python",
   "name": "qout1_venv"
  },
  "language_info": {
   "codemirror_mode": {
    "name": "ipython",
    "version": 3
   },
   "file_extension": ".py",
   "mimetype": "text/x-python",
   "name": "python",
   "nbconvert_exporter": "python",
   "pygments_lexer": "ipython3",
   "version": "3.9.2"
  }
 },
 "nbformat": 4,
 "nbformat_minor": 4
}
