{
 "cells": [
  {
   "cell_type": "code",
   "execution_count": 16,
   "id": "adbb96b3-d469-418f-afa0-add41056b4a5",
   "metadata": {},
   "outputs": [],
   "source": [
    "import os\n",
    "from dotenv import load_dotenv, dotenv_values\n",
    "import pandas as pd"
   ]
  },
  {
   "cell_type": "code",
   "execution_count": 17,
   "id": "4d88a2ef-5283-4593-b68f-97e8132cd9a0",
   "metadata": {},
   "outputs": [],
   "source": [
    "#docu1.py\n",
    "#PURPOSE: To save csv generated data from docusign to aws database."
   ]
  },
  {
   "cell_type": "code",
   "execution_count": 23,
   "id": "60b6c042-8c80-4c68-971c-888cf9abe7ee",
   "metadata": {},
   "outputs": [],
   "source": [
    "#CHECK IF FILE \"Envelope Recipient Report.csv\" EXIST\n",
    "def file_readiness_checker():\n",
    "    #File \"Envelope Recipient Report.csv\" extracted from Docusign\n",
    "    print(\"Checking if 'Envelope Recipient Report.csv' exist\")\n",
    "    if os.path.exists(\"Envelope Recipient Report.csv\"):\n",
    "        print(\"'Envelope Recipient Report.csv' exist.\")\n",
    "        print(\"Checking if update is available.\")\n",
    "        \n",
    "        #Check if it's the right file by checking if all columns are available and is in order\n",
    "        df = pd.read_csv(\"Envelope Recipient Report.csv\")\n",
    "        df.head()\n",
    "        \n",
    "        #Check if update is available by checking if there is changes in the \"Completed On (Date)\" column, if no, then the file has not update. Return error notice\n",
    "        \n",
    "        #If there is changes, then proceed to update the database\n",
    "    else:\n",
    "        print(\"'Envelope Recipient Report.csv' does not exist.\")"
   ]
  },
  {
   "cell_type": "code",
   "execution_count": 24,
   "id": "7e5a7bd2-03ec-4c53-9b43-28476401c05a",
   "metadata": {},
   "outputs": [
    {
     "name": "stdout",
     "output_type": "stream",
     "text": [
      "Checking if 'Envelope Recipient Report.csv' exist\n",
      "'Envelope Recipient Report.csv' exist.\n",
      "Checking if update is available.\n"
     ]
    }
   ],
   "source": [
    "file_readiness_checker()"
   ]
  },
  {
   "cell_type": "code",
   "execution_count": null,
   "id": "a4dab648",
   "metadata": {},
   "outputs": [],
   "source": []
  }
 ],
 "metadata": {
  "kernelspec": {
   "display_name": "Python 3 (ipykernel)",
   "language": "python",
   "name": "python3"
  },
  "language_info": {
   "codemirror_mode": {
    "name": "ipython",
    "version": 3
   },
   "file_extension": ".py",
   "mimetype": "text/x-python",
   "name": "python",
   "nbconvert_exporter": "python",
   "pygments_lexer": "ipython3",
   "version": "3.9.2"
  }
 },
 "nbformat": 4,
 "nbformat_minor": 5
}
