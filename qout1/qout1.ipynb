{
 "cells": [
  {
   "cell_type": "code",
   "execution_count": 1,
   "metadata": {},
   "outputs": [],
   "source": [
    "import pandas as pd\n",
    "import psycopg2\n",
    "import os\n",
    "from sqlalchemy import create_engine, text, MetaData, Table"
   ]
  },
  {
   "cell_type": "markdown",
   "metadata": {},
   "source": [
    "### STEP 1: Load data"
   ]
  },
  {
   "cell_type": "markdown",
   "metadata": {},
   "source": [
    "#### STEP 1A: Loading Existing Data from base tables (Project, Source, Types)"
   ]
  },
  {
   "cell_type": "code",
   "execution_count": 2,
   "metadata": {},
   "outputs": [],
   "source": [
    "db_params = {\n",
    "    'host': os.getenv('DB_HOST') or 'localhost',\n",
    "    'database': os.getenv('DB_NAME') or 'tbmc_db',\n",
    "    'user': os.getenv('DB_USER') or 'tbmc_db_user',\n",
    "    'password': os.getenv('DB_PASSWORD') or '123456',\n",
    "    'table': os.getenv('DB_TABLE') or 'tbmc_db1',\n",
    "    'port': os.getenv('DB_PORT') or '5432'\n",
    "}"
   ]
  },
  {
   "cell_type": "code",
   "execution_count": 3,
   "metadata": {},
   "outputs": [
    {
     "name": "stdout",
     "output_type": "stream",
     "text": [
      "Connection successful!\n"
     ]
    }
   ],
   "source": [
    "def connect_to_database(db_params):\n",
    "    try:\n",
    "        conn = psycopg2.connect(\n",
    "            host=db_params['host'],\n",
    "            database=db_params['database'],\n",
    "            user=db_params['user'],\n",
    "            password=db_params['password']\n",
    "        )\n",
    "        conn.set_session(autocommit=True)\n",
    "        \n",
    "        engine = create_engine(f\"postgresql://{db_params['user']}:{db_params['password']}@{db_params['host']}:{db_params['port']}/{db_params['database']}\")\n",
    "        \n",
    "        if conn and engine:\n",
    "            print(\"Connection successful!\")\n",
    "            return conn, engine\n",
    "        else:\n",
    "            print(\"Connection failed.\")\n",
    "\n",
    "        \n",
    "    except Exception as e:\n",
    "        print(f\"Error connecting to database: {e}\")\n",
    "        return None, None\n",
    "\n",
    "conn, engine = connect_to_database(db_params)\n",
    "\n"
   ]
  },
  {
   "cell_type": "code",
   "execution_count": 4,
   "metadata": {},
   "outputs": [],
   "source": [
    "def existing_table_data():\n",
    "    if engine:\n",
    "        query_type = \"SELECT * FROM type\"\n",
    "        query_source = \"SELECT * FROM source\"\n",
    "        query_items = \"SELECT * FROM items\"\n",
    "\n",
    "        item_type = pd.read_sql(query_type, engine)\n",
    "        item_source = pd.read_sql(query_source, engine)\n",
    "        item_items = pd.read_sql(query_items, engine)\n",
    "\n",
    "\n",
    "        return item_type, item_source, item_items\n",
    "\n",
    "    else:\n",
    "        print(\"Failed to connect to the database.\")\n",
    "\n",
    "type_table, source_table, items_table = existing_table_data()"
   ]
  },
  {
   "cell_type": "code",
   "execution_count": 14,
   "metadata": {},
   "outputs": [],
   "source": [
    "item_columns = list(items_table)"
   ]
  },
  {
   "cell_type": "markdown",
   "metadata": {},
   "source": [
    "#### STEP 1A: Loading New Data"
   ]
  },
  {
   "cell_type": "code",
   "execution_count": 35,
   "metadata": {},
   "outputs": [],
   "source": [
    "file_path = \"../data/quotation_princing_analysis/\"\n",
    "file_name = \"Replacement of Ventilation Duct at Cell Loading Area - Rhajtek.xlsx\"\n",
    "file_path_name = file_path + file_name\n",
    "data = pd.read_excel(file_path_name, names=item_columns)"
   ]
  },
  {
   "cell_type": "code",
   "execution_count": 36,
   "metadata": {
    "scrolled": true
   },
   "outputs": [
    {
     "data": {
      "text/html": [
       "<div>\n",
       "<style scoped>\n",
       "    .dataframe tbody tr th:only-of-type {\n",
       "        vertical-align: middle;\n",
       "    }\n",
       "\n",
       "    .dataframe tbody tr th {\n",
       "        vertical-align: top;\n",
       "    }\n",
       "\n",
       "    .dataframe thead th {\n",
       "        text-align: right;\n",
       "    }\n",
       "</style>\n",
       "<table border=\"1\" class=\"dataframe\">\n",
       "  <thead>\n",
       "    <tr style=\"text-align: right;\">\n",
       "      <th></th>\n",
       "      <th>description</th>\n",
       "      <th>man_r</th>\n",
       "      <th>unit</th>\n",
       "      <th>qty</th>\n",
       "      <th>unit_cost</th>\n",
       "      <th>amount</th>\n",
       "      <th>project</th>\n",
       "      <th>type</th>\n",
       "      <th>date</th>\n",
       "      <th>source</th>\n",
       "    </tr>\n",
       "  </thead>\n",
       "  <tbody>\n",
       "    <tr>\n",
       "      <th>0</th>\n",
       "      <td>mobilization/temfacil/housing, personnel trave...</td>\n",
       "      <td>NaN</td>\n",
       "      <td>lot</td>\n",
       "      <td>1</td>\n",
       "      <td>253000.0</td>\n",
       "      <td>253000.0</td>\n",
       "      <td>REPLACEMENT OF VENTILATION DUCT AT CELL LOADIN...</td>\n",
       "      <td>Mobilization/Demobilization &amp; Housekeeping</td>\n",
       "      <td>2024-01-15</td>\n",
       "      <td>RHAJTEK</td>\n",
       "    </tr>\n",
       "    <tr>\n",
       "      <th>1</th>\n",
       "      <td>demobilization</td>\n",
       "      <td>NaN</td>\n",
       "      <td>lot</td>\n",
       "      <td>1</td>\n",
       "      <td>109250.0</td>\n",
       "      <td>109250.0</td>\n",
       "      <td>REPLACEMENT OF VENTILATION DUCT AT CELL LOADIN...</td>\n",
       "      <td>Mobilization/Demobilization &amp; Housekeeping</td>\n",
       "      <td>2024-01-15</td>\n",
       "      <td>RHAJTEK</td>\n",
       "    </tr>\n",
       "    <tr>\n",
       "      <th>2</th>\n",
       "      <td>rubber gloves</td>\n",
       "      <td>NaN</td>\n",
       "      <td>pairs</td>\n",
       "      <td>175</td>\n",
       "      <td>69.0</td>\n",
       "      <td>12075.0</td>\n",
       "      <td>REPLACEMENT OF VENTILATION DUCT AT CELL LOADIN...</td>\n",
       "      <td>Safety Provisions</td>\n",
       "      <td>2024-01-15</td>\n",
       "      <td>RHAJTEK</td>\n",
       "    </tr>\n",
       "    <tr>\n",
       "      <th>3</th>\n",
       "      <td>dust mask n95</td>\n",
       "      <td>NaN</td>\n",
       "      <td>bxs</td>\n",
       "      <td>25</td>\n",
       "      <td>172.5</td>\n",
       "      <td>4312.5</td>\n",
       "      <td>REPLACEMENT OF VENTILATION DUCT AT CELL LOADIN...</td>\n",
       "      <td>Safety Provisions</td>\n",
       "      <td>2024-01-15</td>\n",
       "      <td>RHAJTEK</td>\n",
       "    </tr>\n",
       "    <tr>\n",
       "      <th>4</th>\n",
       "      <td>caution tape</td>\n",
       "      <td>NaN</td>\n",
       "      <td>roll</td>\n",
       "      <td>1</td>\n",
       "      <td>1380.0</td>\n",
       "      <td>1380.0</td>\n",
       "      <td>REPLACEMENT OF VENTILATION DUCT AT CELL LOADIN...</td>\n",
       "      <td>Safety Provisions</td>\n",
       "      <td>2024-01-15</td>\n",
       "      <td>RHAJTEK</td>\n",
       "    </tr>\n",
       "    <tr>\n",
       "      <th>5</th>\n",
       "      <td>safety signages</td>\n",
       "      <td>NaN</td>\n",
       "      <td>lot</td>\n",
       "      <td>1</td>\n",
       "      <td>9775.0</td>\n",
       "      <td>9775.0</td>\n",
       "      <td>REPLACEMENT OF VENTILATION DUCT AT CELL LOADIN...</td>\n",
       "      <td>Safety Provisions</td>\n",
       "      <td>2024-01-15</td>\n",
       "      <td>RHAJTEK</td>\n",
       "    </tr>\n",
       "    <tr>\n",
       "      <th>6</th>\n",
       "      <td>fire blanket (size: 2m x 2m, temperatures up t...</td>\n",
       "      <td>NaN</td>\n",
       "      <td>pcs</td>\n",
       "      <td>4</td>\n",
       "      <td>1150.0</td>\n",
       "      <td>4600.0</td>\n",
       "      <td>REPLACEMENT OF VENTILATION DUCT AT CELL LOADIN...</td>\n",
       "      <td>Safety Provisions</td>\n",
       "      <td>2024-01-15</td>\n",
       "      <td>RHAJTEK</td>\n",
       "    </tr>\n",
       "    <tr>\n",
       "      <th>7</th>\n",
       "      <td>welding blanket size: 2m x 2m,\\nminimum type r...</td>\n",
       "      <td>NaN</td>\n",
       "      <td>pcs</td>\n",
       "      <td>4</td>\n",
       "      <td>1150.0</td>\n",
       "      <td>4600.0</td>\n",
       "      <td>REPLACEMENT OF VENTILATION DUCT AT CELL LOADIN...</td>\n",
       "      <td>Safety Provisions</td>\n",
       "      <td>2024-01-15</td>\n",
       "      <td>RHAJTEK</td>\n",
       "    </tr>\n",
       "    <tr>\n",
       "      <th>8</th>\n",
       "      <td>coffee hygiene uniform (4 shirt, 2 pants)</td>\n",
       "      <td>NaN</td>\n",
       "      <td>pairs</td>\n",
       "      <td>18</td>\n",
       "      <td>2012.5</td>\n",
       "      <td>36225.0</td>\n",
       "      <td>REPLACEMENT OF VENTILATION DUCT AT CELL LOADIN...</td>\n",
       "      <td>Safety Provisions</td>\n",
       "      <td>2024-01-15</td>\n",
       "      <td>RHAJTEK</td>\n",
       "    </tr>\n",
       "    <tr>\n",
       "      <th>9</th>\n",
       "      <td>safety shoes</td>\n",
       "      <td>NaN</td>\n",
       "      <td>pairs</td>\n",
       "      <td>18</td>\n",
       "      <td>1437.5</td>\n",
       "      <td>25875.0</td>\n",
       "      <td>REPLACEMENT OF VENTILATION DUCT AT CELL LOADIN...</td>\n",
       "      <td>Safety Provisions</td>\n",
       "      <td>2024-01-15</td>\n",
       "      <td>RHAJTEK</td>\n",
       "    </tr>\n",
       "    <tr>\n",
       "      <th>10</th>\n",
       "      <td>hard hat</td>\n",
       "      <td>NaN</td>\n",
       "      <td>pcs</td>\n",
       "      <td>18</td>\n",
       "      <td>287.5</td>\n",
       "      <td>5175.0</td>\n",
       "      <td>REPLACEMENT OF VENTILATION DUCT AT CELL LOADIN...</td>\n",
       "      <td>Safety Provisions</td>\n",
       "      <td>2024-01-15</td>\n",
       "      <td>RHAJTEK</td>\n",
       "    </tr>\n",
       "    <tr>\n",
       "      <th>11</th>\n",
       "      <td>safety ear plugs</td>\n",
       "      <td>NaN</td>\n",
       "      <td>pcs</td>\n",
       "      <td>18</td>\n",
       "      <td>57.5</td>\n",
       "      <td>1035.0</td>\n",
       "      <td>REPLACEMENT OF VENTILATION DUCT AT CELL LOADIN...</td>\n",
       "      <td>Safety Provisions</td>\n",
       "      <td>2024-01-15</td>\n",
       "      <td>RHAJTEK</td>\n",
       "    </tr>\n",
       "    <tr>\n",
       "      <th>12</th>\n",
       "      <td>safety googles</td>\n",
       "      <td>NaN</td>\n",
       "      <td>pcs</td>\n",
       "      <td>18</td>\n",
       "      <td>230.0</td>\n",
       "      <td>4140.0</td>\n",
       "      <td>REPLACEMENT OF VENTILATION DUCT AT CELL LOADIN...</td>\n",
       "      <td>Safety Provisions</td>\n",
       "      <td>2024-01-15</td>\n",
       "      <td>RHAJTEK</td>\n",
       "    </tr>\n",
       "    <tr>\n",
       "      <th>13</th>\n",
       "      <td>welding gloves</td>\n",
       "      <td>NaN</td>\n",
       "      <td>pcs</td>\n",
       "      <td>8</td>\n",
       "      <td>517.5</td>\n",
       "      <td>4140.0</td>\n",
       "      <td>REPLACEMENT OF VENTILATION DUCT AT CELL LOADIN...</td>\n",
       "      <td>Safety Provisions</td>\n",
       "      <td>2024-01-15</td>\n",
       "      <td>RHAJTEK</td>\n",
       "    </tr>\n",
       "    <tr>\n",
       "      <th>14</th>\n",
       "      <td>safety harness</td>\n",
       "      <td>NaN</td>\n",
       "      <td>pcs</td>\n",
       "      <td>6</td>\n",
       "      <td>1380.0</td>\n",
       "      <td>8280.0</td>\n",
       "      <td>REPLACEMENT OF VENTILATION DUCT AT CELL LOADIN...</td>\n",
       "      <td>Safety Provisions</td>\n",
       "      <td>2024-01-15</td>\n",
       "      <td>RHAJTEK</td>\n",
       "    </tr>\n",
       "  </tbody>\n",
       "</table>\n",
       "</div>"
      ],
      "text/plain": [
       "                                          description  man_r   unit  qty  \\\n",
       "0   mobilization/temfacil/housing, personnel trave...    NaN    lot    1   \n",
       "1                                      demobilization    NaN    lot    1   \n",
       "2                                       rubber gloves    NaN  pairs  175   \n",
       "3                                       dust mask n95    NaN    bxs   25   \n",
       "4                                        caution tape    NaN   roll    1   \n",
       "5                                     safety signages    NaN    lot    1   \n",
       "6   fire blanket (size: 2m x 2m, temperatures up t...    NaN    pcs    4   \n",
       "7   welding blanket size: 2m x 2m,\\nminimum type r...    NaN    pcs    4   \n",
       "8           coffee hygiene uniform (4 shirt, 2 pants)    NaN  pairs   18   \n",
       "9                                        safety shoes    NaN  pairs   18   \n",
       "10                                           hard hat    NaN    pcs   18   \n",
       "11                                   safety ear plugs    NaN    pcs   18   \n",
       "12                                     safety googles    NaN    pcs   18   \n",
       "13                                     welding gloves    NaN    pcs    8   \n",
       "14                                     safety harness    NaN    pcs    6   \n",
       "\n",
       "    unit_cost    amount                                            project  \\\n",
       "0    253000.0  253000.0  REPLACEMENT OF VENTILATION DUCT AT CELL LOADIN...   \n",
       "1    109250.0  109250.0  REPLACEMENT OF VENTILATION DUCT AT CELL LOADIN...   \n",
       "2        69.0   12075.0  REPLACEMENT OF VENTILATION DUCT AT CELL LOADIN...   \n",
       "3       172.5    4312.5  REPLACEMENT OF VENTILATION DUCT AT CELL LOADIN...   \n",
       "4      1380.0    1380.0  REPLACEMENT OF VENTILATION DUCT AT CELL LOADIN...   \n",
       "5      9775.0    9775.0  REPLACEMENT OF VENTILATION DUCT AT CELL LOADIN...   \n",
       "6      1150.0    4600.0  REPLACEMENT OF VENTILATION DUCT AT CELL LOADIN...   \n",
       "7      1150.0    4600.0  REPLACEMENT OF VENTILATION DUCT AT CELL LOADIN...   \n",
       "8      2012.5   36225.0  REPLACEMENT OF VENTILATION DUCT AT CELL LOADIN...   \n",
       "9      1437.5   25875.0  REPLACEMENT OF VENTILATION DUCT AT CELL LOADIN...   \n",
       "10      287.5    5175.0  REPLACEMENT OF VENTILATION DUCT AT CELL LOADIN...   \n",
       "11       57.5    1035.0  REPLACEMENT OF VENTILATION DUCT AT CELL LOADIN...   \n",
       "12      230.0    4140.0  REPLACEMENT OF VENTILATION DUCT AT CELL LOADIN...   \n",
       "13      517.5    4140.0  REPLACEMENT OF VENTILATION DUCT AT CELL LOADIN...   \n",
       "14     1380.0    8280.0  REPLACEMENT OF VENTILATION DUCT AT CELL LOADIN...   \n",
       "\n",
       "                                          type       date   source  \n",
       "0   Mobilization/Demobilization & Housekeeping 2024-01-15  RHAJTEK  \n",
       "1   Mobilization/Demobilization & Housekeeping 2024-01-15  RHAJTEK  \n",
       "2                            Safety Provisions 2024-01-15  RHAJTEK  \n",
       "3                            Safety Provisions 2024-01-15  RHAJTEK  \n",
       "4                            Safety Provisions 2024-01-15  RHAJTEK  \n",
       "5                            Safety Provisions 2024-01-15  RHAJTEK  \n",
       "6                            Safety Provisions 2024-01-15  RHAJTEK  \n",
       "7                            Safety Provisions 2024-01-15  RHAJTEK  \n",
       "8                            Safety Provisions 2024-01-15  RHAJTEK  \n",
       "9                            Safety Provisions 2024-01-15  RHAJTEK  \n",
       "10                           Safety Provisions 2024-01-15  RHAJTEK  \n",
       "11                           Safety Provisions 2024-01-15  RHAJTEK  \n",
       "12                           Safety Provisions 2024-01-15  RHAJTEK  \n",
       "13                           Safety Provisions 2024-01-15  RHAJTEK  \n",
       "14                           Safety Provisions 2024-01-15  RHAJTEK  "
      ]
     },
     "execution_count": 36,
     "metadata": {},
     "output_type": "execute_result"
    }
   ],
   "source": [
    "data.head(15)"
   ]
  },
  {
   "cell_type": "code",
   "execution_count": 37,
   "metadata": {},
   "outputs": [
    {
     "name": "stdout",
     "output_type": "stream",
     "text": [
      "DataFrame appended to the database successfully!\n"
     ]
    }
   ],
   "source": [
    "if engine:    \n",
    "    # Append the DataFrame to the table named 'items' in the connected database\n",
    "    data.to_sql('items', engine, if_exists='append', index=False)\n",
    "    print(\"DataFrame appended to the database successfully!\")\n",
    "else:\n",
    "    print(\"Failed to connect to the database.\")\n"
   ]
  },
  {
   "cell_type": "markdown",
   "metadata": {},
   "source": [
    "### STEP 2: Final cleaning"
   ]
  },
  {
   "cell_type": "markdown",
   "metadata": {},
   "source": [
    "### STEP 3: Add project name to \"Project\" table"
   ]
  },
  {
   "cell_type": "markdown",
   "metadata": {},
   "source": [
    "#### STEP 3A: Connect to the database"
   ]
  },
  {
   "cell_type": "markdown",
   "metadata": {},
   "source": [
    "#### STEP 3B: Upload data"
   ]
  },
  {
   "cell_type": "markdown",
   "metadata": {},
   "source": [
    "#### STEP 3C: Close Connection"
   ]
  },
  {
   "cell_type": "code",
   "execution_count": 12,
   "metadata": {},
   "outputs": [],
   "source": [
    "conn.close()"
   ]
  },
  {
   "cell_type": "code",
   "execution_count": 13,
   "metadata": {},
   "outputs": [
    {
     "name": "stdout",
     "output_type": "stream",
     "text": [
      "Connection closed.\n",
      "Engine disposed.\n"
     ]
    }
   ],
   "source": [
    "if conn:\n",
    "    conn.close()\n",
    "    print(\"Connection closed.\")\n",
    "\n",
    "if engine:\n",
    "    engine.dispose()\n",
    "    print(\"Engine disposed.\")"
   ]
  }
 ],
 "metadata": {
  "kernelspec": {
   "display_name": "qout1_venv",
   "language": "python",
   "name": "qout1_venv"
  },
  "language_info": {
   "codemirror_mode": {
    "name": "ipython",
    "version": 3
   },
   "file_extension": ".py",
   "mimetype": "text/x-python",
   "name": "python",
   "nbconvert_exporter": "python",
   "pygments_lexer": "ipython3",
   "version": "3.9.2"
  }
 },
 "nbformat": 4,
 "nbformat_minor": 2
}
