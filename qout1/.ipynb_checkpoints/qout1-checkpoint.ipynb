{
 "cells": [
  {
   "cell_type": "code",
   "execution_count": 65,
   "metadata": {},
   "outputs": [],
   "source": [
    "import pandas as pd\n",
    "import psycopg2\n",
    "import os\n",
    "from sqlalchemy import create_engine, text, MetaData, Table"
   ]
  },
  {
   "cell_type": "markdown",
   "metadata": {},
   "source": [
    "### STEP 1: Load data"
   ]
  },
  {
   "cell_type": "markdown",
   "metadata": {},
   "source": [
    "#### STEP 1A: Loading Existing Data from base tables (Project, Source, Types)"
   ]
  },
  {
   "cell_type": "code",
   "execution_count": 66,
   "metadata": {},
   "outputs": [],
   "source": [
    "db_params = {\n",
    "    'host': os.getenv('DB_HOST') or 'localhost',\n",
    "    'database': os.getenv('DB_NAME') or 'tbmc_db',\n",
    "    'user': os.getenv('DB_USER') or 'tbmc_db_user',\n",
    "    'password': os.getenv('DB_PASSWORD') or '123456',\n",
    "    'table': os.getenv('DB_TABLE') or 'tbmc_db1',\n",
    "    'port': os.getenv('DB_PORT') or '5432'\n",
    "}"
   ]
  },
  {
   "cell_type": "code",
   "execution_count": 67,
   "metadata": {},
   "outputs": [
    {
     "name": "stdout",
     "output_type": "stream",
     "text": [
      "Connection successful!\n"
     ]
    }
   ],
   "source": [
    "def connect_to_database(db_params):\n",
    "    try:\n",
    "        conn = psycopg2.connect(\n",
    "            host=db_params['host'],\n",
    "            database=db_params['database'],\n",
    "            user=db_params['user'],\n",
    "            password=db_params['password']\n",
    "        )\n",
    "        conn.set_session(autocommit=True)\n",
    "        \n",
    "        engine = create_engine(f\"postgresql://{db_params['user']}:{db_params['password']}@{db_params['host']}:{db_params['port']}/{db_params['database']}\")\n",
    "        \n",
    "        if conn and engine:\n",
    "            print(\"Connection successful!\")\n",
    "            return conn, engine\n",
    "        else:\n",
    "            print(\"Connection failed.\")\n",
    "\n",
    "        \n",
    "    except Exception as e:\n",
    "        print(f\"Error connecting to database: {e}\")\n",
    "        return None, None\n",
    "\n",
    "conn, engine = connect_to_database(db_params)\n",
    "\n"
   ]
  },
  {
   "cell_type": "code",
   "execution_count": 68,
   "metadata": {},
   "outputs": [],
   "source": [
    "def existing_table_data():\n",
    "    if engine:\n",
    "        query_type = \"SELECT * FROM type\"\n",
    "        query_source = \"SELECT * FROM source\"\n",
    "        query_items = \"SELECT * FROM items\"\n",
    "\n",
    "        item_type = pd.read_sql(query_type, engine)\n",
    "        item_source = pd.read_sql(query_source, engine)\n",
    "        item_items = pd.read_sql(query_items, engine)\n",
    "\n",
    "\n",
    "        return item_type, item_source, item_items\n",
    "\n",
    "    else:\n",
    "        print(\"Failed to connect to the database.\")\n",
    "\n",
    "type_table, source_table, items_table = existing_table_data()"
   ]
  },
  {
   "cell_type": "code",
   "execution_count": 69,
   "metadata": {},
   "outputs": [],
   "source": [
    "item_columns = list(items_table)"
   ]
  },
  {
   "cell_type": "markdown",
   "metadata": {},
   "source": [
    "#### STEP 1A: Loading New Data"
   ]
  },
  {
   "cell_type": "code",
   "execution_count": 70,
   "metadata": {},
   "outputs": [],
   "source": [
    "file_path = \"../data/quotation_princing_analysis/\"\n",
    "file_name = \"INDEPENDENT CIP EVAPORATOR CIR RETURN LINE GOING TO IS 400M3 TANK - INHOUSE.xlsx\"\n",
    "file_path_name = file_path + file_name\n",
    "data = pd.read_excel(file_path_name, names=item_columns)"
   ]
  },
  {
   "cell_type": "code",
   "execution_count": 71,
   "metadata": {
    "scrolled": true
   },
   "outputs": [
    {
     "data": {
      "text/html": [
       "<div>\n",
       "<style scoped>\n",
       "    .dataframe tbody tr th:only-of-type {\n",
       "        vertical-align: middle;\n",
       "    }\n",
       "\n",
       "    .dataframe tbody tr th {\n",
       "        vertical-align: top;\n",
       "    }\n",
       "\n",
       "    .dataframe thead th {\n",
       "        text-align: right;\n",
       "    }\n",
       "</style>\n",
       "<table border=\"1\" class=\"dataframe\">\n",
       "  <thead>\n",
       "    <tr style=\"text-align: right;\">\n",
       "      <th></th>\n",
       "      <th>description</th>\n",
       "      <th>man_r</th>\n",
       "      <th>unit</th>\n",
       "      <th>qty</th>\n",
       "      <th>unit_cost</th>\n",
       "      <th>amount</th>\n",
       "      <th>project</th>\n",
       "      <th>type</th>\n",
       "      <th>date</th>\n",
       "      <th>source</th>\n",
       "    </tr>\n",
       "  </thead>\n",
       "  <tbody>\n",
       "    <tr>\n",
       "      <th>0</th>\n",
       "      <td>mobilization</td>\n",
       "      <td>NaN</td>\n",
       "      <td>lot</td>\n",
       "      <td>1</td>\n",
       "      <td>50000.0</td>\n",
       "      <td>50000.0</td>\n",
       "      <td>INDEPENDENT CIP EVAPORATOR - CIR RETURN LINE G...</td>\n",
       "      <td>Mobilization/Demobilization &amp; Housekeeping</td>\n",
       "      <td>NaN</td>\n",
       "      <td>INHOUSE</td>\n",
       "    </tr>\n",
       "    <tr>\n",
       "      <th>1</th>\n",
       "      <td>demobilization/housekeeping</td>\n",
       "      <td>NaN</td>\n",
       "      <td>lot</td>\n",
       "      <td>1</td>\n",
       "      <td>50000.0</td>\n",
       "      <td>50000.0</td>\n",
       "      <td>INDEPENDENT CIP EVAPORATOR - CIR RETURN LINE G...</td>\n",
       "      <td>Mobilization/Demobilization &amp; Housekeeping</td>\n",
       "      <td>NaN</td>\n",
       "      <td>INHOUSE</td>\n",
       "    </tr>\n",
       "    <tr>\n",
       "      <th>2</th>\n",
       "      <td>cotton gloves</td>\n",
       "      <td>NaN</td>\n",
       "      <td>pair</td>\n",
       "      <td>480</td>\n",
       "      <td>27.0</td>\n",
       "      <td>12960.0</td>\n",
       "      <td>INDEPENDENT CIP EVAPORATOR - CIR RETURN LINE G...</td>\n",
       "      <td>Safety Provisions</td>\n",
       "      <td>NaN</td>\n",
       "      <td>INHOUSE</td>\n",
       "    </tr>\n",
       "    <tr>\n",
       "      <th>3</th>\n",
       "      <td>dust mask</td>\n",
       "      <td>NaN</td>\n",
       "      <td>bxs</td>\n",
       "      <td>5</td>\n",
       "      <td>277.0</td>\n",
       "      <td>1385.0</td>\n",
       "      <td>INDEPENDENT CIP EVAPORATOR - CIR RETURN LINE G...</td>\n",
       "      <td>Safety Provisions</td>\n",
       "      <td>NaN</td>\n",
       "      <td>INHOUSE</td>\n",
       "    </tr>\n",
       "    <tr>\n",
       "      <th>4</th>\n",
       "      <td>caution tape</td>\n",
       "      <td>NaN</td>\n",
       "      <td>roll</td>\n",
       "      <td>1</td>\n",
       "      <td>1384.0</td>\n",
       "      <td>1384.0</td>\n",
       "      <td>INDEPENDENT CIP EVAPORATOR - CIR RETURN LINE G...</td>\n",
       "      <td>Safety Provisions</td>\n",
       "      <td>NaN</td>\n",
       "      <td>INHOUSE</td>\n",
       "    </tr>\n",
       "    <tr>\n",
       "      <th>5</th>\n",
       "      <td>safety signages</td>\n",
       "      <td>NaN</td>\n",
       "      <td>lot</td>\n",
       "      <td>1</td>\n",
       "      <td>5000.0</td>\n",
       "      <td>5000.0</td>\n",
       "      <td>INDEPENDENT CIP EVAPORATOR - CIR RETURN LINE G...</td>\n",
       "      <td>Safety Provisions</td>\n",
       "      <td>NaN</td>\n",
       "      <td>INHOUSE</td>\n",
       "    </tr>\n",
       "    <tr>\n",
       "      <th>6</th>\n",
       "      <td>fire blanket</td>\n",
       "      <td>NaN</td>\n",
       "      <td>pcs</td>\n",
       "      <td>6</td>\n",
       "      <td>3500.0</td>\n",
       "      <td>21000.0</td>\n",
       "      <td>INDEPENDENT CIP EVAPORATOR - CIR RETURN LINE G...</td>\n",
       "      <td>Safety Provisions</td>\n",
       "      <td>NaN</td>\n",
       "      <td>INHOUSE</td>\n",
       "    </tr>\n",
       "    <tr>\n",
       "      <th>7</th>\n",
       "      <td>welding blanket</td>\n",
       "      <td>NaN</td>\n",
       "      <td>pcs</td>\n",
       "      <td>6</td>\n",
       "      <td>3500.0</td>\n",
       "      <td>21000.0</td>\n",
       "      <td>INDEPENDENT CIP EVAPORATOR - CIR RETURN LINE G...</td>\n",
       "      <td>Safety Provisions</td>\n",
       "      <td>NaN</td>\n",
       "      <td>INHOUSE</td>\n",
       "    </tr>\n",
       "    <tr>\n",
       "      <th>8</th>\n",
       "      <td>cip suit(16 person)</td>\n",
       "      <td>NaN</td>\n",
       "      <td>set</td>\n",
       "      <td>34</td>\n",
       "      <td>2000.0</td>\n",
       "      <td>68000.0</td>\n",
       "      <td>INDEPENDENT CIP EVAPORATOR - CIR RETURN LINE G...</td>\n",
       "      <td>Safety Provisions</td>\n",
       "      <td>NaN</td>\n",
       "      <td>INHOUSE</td>\n",
       "    </tr>\n",
       "    <tr>\n",
       "      <th>9</th>\n",
       "      <td>construction board</td>\n",
       "      <td>NaN</td>\n",
       "      <td>lot</td>\n",
       "      <td>1</td>\n",
       "      <td>10000.0</td>\n",
       "      <td>10000.0</td>\n",
       "      <td>INDEPENDENT CIP EVAPORATOR - CIR RETURN LINE G...</td>\n",
       "      <td>Safety Provisions</td>\n",
       "      <td>NaN</td>\n",
       "      <td>INHOUSE</td>\n",
       "    </tr>\n",
       "    <tr>\n",
       "      <th>10</th>\n",
       "      <td>gtaw or tig welding machine</td>\n",
       "      <td>NaN</td>\n",
       "      <td>unit</td>\n",
       "      <td>3</td>\n",
       "      <td>15000.0</td>\n",
       "      <td>45000.0</td>\n",
       "      <td>INDEPENDENT CIP EVAPORATOR - CIR RETURN LINE G...</td>\n",
       "      <td>Tools and Equipment Rental</td>\n",
       "      <td>NaN</td>\n",
       "      <td>INHOUSE</td>\n",
       "    </tr>\n",
       "    <tr>\n",
       "      <th>11</th>\n",
       "      <td>portable grinders 7\"ø  with double insulation ...</td>\n",
       "      <td>NaN</td>\n",
       "      <td>unit</td>\n",
       "      <td>2</td>\n",
       "      <td>3000.0</td>\n",
       "      <td>6000.0</td>\n",
       "      <td>INDEPENDENT CIP EVAPORATOR - CIR RETURN LINE G...</td>\n",
       "      <td>Tools and Equipment Rental</td>\n",
       "      <td>NaN</td>\n",
       "      <td>INHOUSE</td>\n",
       "    </tr>\n",
       "    <tr>\n",
       "      <th>12</th>\n",
       "      <td>portable grinders  4\"ø  with double insulation...</td>\n",
       "      <td>NaN</td>\n",
       "      <td>unit</td>\n",
       "      <td>2</td>\n",
       "      <td>3000.0</td>\n",
       "      <td>6000.0</td>\n",
       "      <td>INDEPENDENT CIP EVAPORATOR - CIR RETURN LINE G...</td>\n",
       "      <td>Tools and Equipment Rental</td>\n",
       "      <td>NaN</td>\n",
       "      <td>INHOUSE</td>\n",
       "    </tr>\n",
       "    <tr>\n",
       "      <th>13</th>\n",
       "      <td>scaffolding - rental</td>\n",
       "      <td>NaN</td>\n",
       "      <td>lot</td>\n",
       "      <td>1</td>\n",
       "      <td>50000.0</td>\n",
       "      <td>50000.0</td>\n",
       "      <td>INDEPENDENT CIP EVAPORATOR - CIR RETURN LINE G...</td>\n",
       "      <td>Tools and Equipment Rental</td>\n",
       "      <td>NaN</td>\n",
       "      <td>INHOUSE</td>\n",
       "    </tr>\n",
       "    <tr>\n",
       "      <th>14</th>\n",
       "      <td>extension ladders with certificate</td>\n",
       "      <td>NaN</td>\n",
       "      <td>unit</td>\n",
       "      <td>2</td>\n",
       "      <td>15000.0</td>\n",
       "      <td>30000.0</td>\n",
       "      <td>INDEPENDENT CIP EVAPORATOR - CIR RETURN LINE G...</td>\n",
       "      <td>Tools and Equipment Rental</td>\n",
       "      <td>NaN</td>\n",
       "      <td>INHOUSE</td>\n",
       "    </tr>\n",
       "  </tbody>\n",
       "</table>\n",
       "</div>"
      ],
      "text/plain": [
       "                                          description  man_r  unit  qty  \\\n",
       "0                                        mobilization    NaN   lot    1   \n",
       "1                         demobilization/housekeeping    NaN   lot    1   \n",
       "2                                       cotton gloves    NaN  pair  480   \n",
       "3                                           dust mask    NaN   bxs    5   \n",
       "4                                        caution tape    NaN  roll    1   \n",
       "5                                     safety signages    NaN   lot    1   \n",
       "6                                      fire blanket      NaN   pcs    6   \n",
       "7                                   welding blanket      NaN   pcs    6   \n",
       "8                                 cip suit(16 person)    NaN   set   34   \n",
       "9                                  construction board    NaN   lot    1   \n",
       "10                        gtaw or tig welding machine    NaN  unit    3   \n",
       "11  portable grinders 7\"ø  with double insulation ...    NaN  unit    2   \n",
       "12  portable grinders  4\"ø  with double insulation...    NaN  unit    2   \n",
       "13                               scaffolding - rental    NaN   lot    1   \n",
       "14                 extension ladders with certificate    NaN  unit    2   \n",
       "\n",
       "    unit_cost   amount                                            project  \\\n",
       "0     50000.0  50000.0  INDEPENDENT CIP EVAPORATOR - CIR RETURN LINE G...   \n",
       "1     50000.0  50000.0  INDEPENDENT CIP EVAPORATOR - CIR RETURN LINE G...   \n",
       "2        27.0  12960.0  INDEPENDENT CIP EVAPORATOR - CIR RETURN LINE G...   \n",
       "3       277.0   1385.0  INDEPENDENT CIP EVAPORATOR - CIR RETURN LINE G...   \n",
       "4      1384.0   1384.0  INDEPENDENT CIP EVAPORATOR - CIR RETURN LINE G...   \n",
       "5      5000.0   5000.0  INDEPENDENT CIP EVAPORATOR - CIR RETURN LINE G...   \n",
       "6      3500.0  21000.0  INDEPENDENT CIP EVAPORATOR - CIR RETURN LINE G...   \n",
       "7      3500.0  21000.0  INDEPENDENT CIP EVAPORATOR - CIR RETURN LINE G...   \n",
       "8      2000.0  68000.0  INDEPENDENT CIP EVAPORATOR - CIR RETURN LINE G...   \n",
       "9     10000.0  10000.0  INDEPENDENT CIP EVAPORATOR - CIR RETURN LINE G...   \n",
       "10    15000.0  45000.0  INDEPENDENT CIP EVAPORATOR - CIR RETURN LINE G...   \n",
       "11     3000.0   6000.0  INDEPENDENT CIP EVAPORATOR - CIR RETURN LINE G...   \n",
       "12     3000.0   6000.0  INDEPENDENT CIP EVAPORATOR - CIR RETURN LINE G...   \n",
       "13    50000.0  50000.0  INDEPENDENT CIP EVAPORATOR - CIR RETURN LINE G...   \n",
       "14    15000.0  30000.0  INDEPENDENT CIP EVAPORATOR - CIR RETURN LINE G...   \n",
       "\n",
       "                                          type  date   source  \n",
       "0   Mobilization/Demobilization & Housekeeping   NaN  INHOUSE  \n",
       "1   Mobilization/Demobilization & Housekeeping   NaN  INHOUSE  \n",
       "2                            Safety Provisions   NaN  INHOUSE  \n",
       "3                            Safety Provisions   NaN  INHOUSE  \n",
       "4                            Safety Provisions   NaN  INHOUSE  \n",
       "5                            Safety Provisions   NaN  INHOUSE  \n",
       "6                            Safety Provisions   NaN  INHOUSE  \n",
       "7                            Safety Provisions   NaN  INHOUSE  \n",
       "8                            Safety Provisions   NaN  INHOUSE  \n",
       "9                            Safety Provisions   NaN  INHOUSE  \n",
       "10                  Tools and Equipment Rental   NaN  INHOUSE  \n",
       "11                  Tools and Equipment Rental   NaN  INHOUSE  \n",
       "12                  Tools and Equipment Rental   NaN  INHOUSE  \n",
       "13                  Tools and Equipment Rental   NaN  INHOUSE  \n",
       "14                  Tools and Equipment Rental   NaN  INHOUSE  "
      ]
     },
     "execution_count": 71,
     "metadata": {},
     "output_type": "execute_result"
    }
   ],
   "source": [
    "data.head(15)"
   ]
  },
  {
   "cell_type": "code",
   "execution_count": 72,
   "metadata": {},
   "outputs": [
    {
     "ename": "IntegrityError",
     "evalue": "(psycopg2.errors.UniqueViolation) duplicate key value violates unique constraint \"items_pkey\"\nDETAIL:  Key (description, project, source)=(mobilization, INDEPENDENT CIP EVAPORATOR - CIR RETURN LINE GOING TO IS 400M3 TANK, INHOUSE) already exists.\n\n[SQL: INSERT INTO items (description, man_r, unit, qty, unit_cost, amount, project, type, date, source) VALUES (%(description__0)s, %(man_r__0)s, %(unit__0)s, %(qty__0)s, %(unit_cost__0)s, %(amount__0)s, %(project__0)s, %(type__0)s, %(date__0)s, %(source__ ... 13660 characters truncated ... 6)s, %(unit_cost__86)s, %(amount__86)s, %(project__86)s, %(type__86)s, %(date__86)s, %(source__86)s)]\n[parameters: {'source__0': 'INHOUSE', 'type__0': 'Mobilization/Demobilization & Housekeeping', 'project__0': 'INDEPENDENT CIP EVAPORATOR - CIR RETURN LINE GOING TO IS 400M3 TANK', 'man_r__0': None, 'description__0': 'mobilization', 'unit__0': 'lot', 'qty__0': 1, 'date__0': None, 'amount__0': 50000.0, 'unit_cost__0': 50000.0, 'source__1': 'INHOUSE', 'type__1': 'Mobilization/Demobilization & Housekeeping', 'project__1': 'INDEPENDENT CIP EVAPORATOR - CIR RETURN LINE GOING TO IS 400M3 TANK', 'man_r__1': None, 'description__1': 'demobilization/housekeeping', 'unit__1': 'lot', 'qty__1': 1, 'date__1': None, 'amount__1': 50000.0, 'unit_cost__1': 50000.0, 'source__2': 'INHOUSE', 'type__2': 'Safety Provisions', 'project__2': 'INDEPENDENT CIP EVAPORATOR - CIR RETURN LINE GOING TO IS 400M3 TANK', 'man_r__2': None, 'description__2': 'cotton gloves', 'unit__2': 'pair', 'qty__2': 480, 'date__2': None, 'amount__2': 12960.0, 'unit_cost__2': 27.0, 'source__3': 'INHOUSE', 'type__3': 'Safety Provisions', 'project__3': 'INDEPENDENT CIP EVAPORATOR - CIR RETURN LINE GOING TO IS 400M3 TANK', 'man_r__3': None, 'description__3': 'dust mask', 'unit__3': 'bxs', 'qty__3': 5, 'date__3': None, 'amount__3': 1385.0, 'unit_cost__3': 277.0, 'source__4': 'INHOUSE', 'type__4': 'Safety Provisions', 'project__4': 'INDEPENDENT CIP EVAPORATOR - CIR RETURN LINE GOING TO IS 400M3 TANK', 'man_r__4': None, 'description__4': 'caution tape', 'unit__4': 'roll', 'qty__4': 1, 'date__4': None, 'amount__4': 1384.0, 'unit_cost__4': 1384.0 ... 770 parameters truncated ... 'source__82': 'INHOUSE', 'type__82': 'Labor', 'project__82': 'INDEPENDENT CIP EVAPORATOR - CIR RETURN LINE GOING TO IS 400M3 TANK', 'man_r__82': 1.0, 'description__82': 'foreman', 'unit__82': 'days', 'qty__82': 40, 'date__82': None, 'amount__82': 38000.0, 'unit_cost__82': 950.0, 'source__83': 'INHOUSE', 'type__83': 'Labor', 'project__83': 'INDEPENDENT CIP EVAPORATOR - CIR RETURN LINE GOING TO IS 400M3 TANK', 'man_r__83': 2.0, 'description__83': 'fabricators/fitter', 'unit__83': 'days', 'qty__83': 40, 'date__83': None, 'amount__83': 72000.0, 'unit_cost__83': 900.0, 'source__84': 'INHOUSE', 'type__84': 'Labor', 'project__84': 'INDEPENDENT CIP EVAPORATOR - CIR RETURN LINE GOING TO IS 400M3 TANK', 'man_r__84': 3.0, 'description__84': 'welders', 'unit__84': 'days', 'qty__84': 40, 'date__84': None, 'amount__84': 108000.0, 'unit_cost__84': 900.0, 'source__85': 'INHOUSE', 'type__85': 'Labor', 'project__85': 'INDEPENDENT CIP EVAPORATOR - CIR RETURN LINE GOING TO IS 400M3 TANK', 'man_r__85': 7.0, 'description__85': 'skilled helpers/scaffolders', 'unit__85': 'days', 'qty__85': 40, 'date__85': None, 'amount__85': 238000.0, 'unit_cost__85': 850.0, 'source__86': 'INHOUSE', 'type__86': 'Labor', 'project__86': 'INDEPENDENT CIP EVAPORATOR - CIR RETURN LINE GOING TO IS 400M3 TANK', 'man_r__86': 1.0, 'description__86': 'electrician', 'unit__86': 'days', 'qty__86': 40, 'date__86': None, 'amount__86': 34000.0, 'unit_cost__86': 850.0}]\n(Background on this error at: https://sqlalche.me/e/20/gkpj)",
     "output_type": "error",
     "traceback": [
      "\u001b[1;31m---------------------------------------------------------------------------\u001b[0m",
      "\u001b[1;31mUniqueViolation\u001b[0m                           Traceback (most recent call last)",
      "File \u001b[1;32mc:\\Users\\Francis\\00_ML\\00_Power BI\\docu1\\env\\lib\\site-packages\\sqlalchemy\\engine\\base.py:2116\u001b[0m, in \u001b[0;36mConnection._exec_insertmany_context\u001b[1;34m(self, dialect, context)\u001b[0m\n\u001b[0;32m   2115\u001b[0m     \u001b[38;5;28;01melse\u001b[39;00m:\n\u001b[1;32m-> 2116\u001b[0m         \u001b[43mdialect\u001b[49m\u001b[38;5;241;43m.\u001b[39;49m\u001b[43mdo_execute\u001b[49m\u001b[43m(\u001b[49m\n\u001b[0;32m   2117\u001b[0m \u001b[43m            \u001b[49m\u001b[43mcursor\u001b[49m\u001b[43m,\u001b[49m\n\u001b[0;32m   2118\u001b[0m \u001b[43m            \u001b[49m\u001b[43msub_stmt\u001b[49m\u001b[43m,\u001b[49m\n\u001b[0;32m   2119\u001b[0m \u001b[43m            \u001b[49m\u001b[43msub_params\u001b[49m\u001b[43m,\u001b[49m\n\u001b[0;32m   2120\u001b[0m \u001b[43m            \u001b[49m\u001b[43mcontext\u001b[49m\u001b[43m,\u001b[49m\n\u001b[0;32m   2121\u001b[0m \u001b[43m        \u001b[49m\u001b[43m)\u001b[49m\n\u001b[0;32m   2123\u001b[0m \u001b[38;5;28;01mexcept\u001b[39;00m \u001b[38;5;167;01mBaseException\u001b[39;00m \u001b[38;5;28;01mas\u001b[39;00m e:\n",
      "File \u001b[1;32mc:\\Users\\Francis\\00_ML\\00_Power BI\\docu1\\env\\lib\\site-packages\\sqlalchemy\\engine\\default.py:924\u001b[0m, in \u001b[0;36mDefaultDialect.do_execute\u001b[1;34m(self, cursor, statement, parameters, context)\u001b[0m\n\u001b[0;32m    923\u001b[0m \u001b[38;5;28;01mdef\u001b[39;00m \u001b[38;5;21mdo_execute\u001b[39m(\u001b[38;5;28mself\u001b[39m, cursor, statement, parameters, context\u001b[38;5;241m=\u001b[39m\u001b[38;5;28;01mNone\u001b[39;00m):\n\u001b[1;32m--> 924\u001b[0m     \u001b[43mcursor\u001b[49m\u001b[38;5;241;43m.\u001b[39;49m\u001b[43mexecute\u001b[49m\u001b[43m(\u001b[49m\u001b[43mstatement\u001b[49m\u001b[43m,\u001b[49m\u001b[43m \u001b[49m\u001b[43mparameters\u001b[49m\u001b[43m)\u001b[49m\n",
      "\u001b[1;31mUniqueViolation\u001b[0m: duplicate key value violates unique constraint \"items_pkey\"\nDETAIL:  Key (description, project, source)=(mobilization, INDEPENDENT CIP EVAPORATOR - CIR RETURN LINE GOING TO IS 400M3 TANK, INHOUSE) already exists.\n",
      "\nThe above exception was the direct cause of the following exception:\n",
      "\u001b[1;31mIntegrityError\u001b[0m                            Traceback (most recent call last)",
      "Cell \u001b[1;32mIn[72], line 3\u001b[0m\n\u001b[0;32m      1\u001b[0m \u001b[38;5;28;01mif\u001b[39;00m engine:    \n\u001b[0;32m      2\u001b[0m     \u001b[38;5;66;03m# Append the DataFrame to the table named 'items' in the connected database\u001b[39;00m\n\u001b[1;32m----> 3\u001b[0m     \u001b[43mdata\u001b[49m\u001b[38;5;241;43m.\u001b[39;49m\u001b[43mto_sql\u001b[49m\u001b[43m(\u001b[49m\u001b[38;5;124;43m'\u001b[39;49m\u001b[38;5;124;43mitems\u001b[39;49m\u001b[38;5;124;43m'\u001b[39;49m\u001b[43m,\u001b[49m\u001b[43m \u001b[49m\u001b[43mengine\u001b[49m\u001b[43m,\u001b[49m\u001b[43m \u001b[49m\u001b[43mif_exists\u001b[49m\u001b[38;5;241;43m=\u001b[39;49m\u001b[38;5;124;43m'\u001b[39;49m\u001b[38;5;124;43mappend\u001b[39;49m\u001b[38;5;124;43m'\u001b[39;49m\u001b[43m,\u001b[49m\u001b[43m \u001b[49m\u001b[43mindex\u001b[49m\u001b[38;5;241;43m=\u001b[39;49m\u001b[38;5;28;43;01mFalse\u001b[39;49;00m\u001b[43m)\u001b[49m\n\u001b[0;32m      4\u001b[0m     \u001b[38;5;28mprint\u001b[39m(\u001b[38;5;124m\"\u001b[39m\u001b[38;5;124mDataFrame appended to the database successfully!\u001b[39m\u001b[38;5;124m\"\u001b[39m)\n\u001b[0;32m      5\u001b[0m \u001b[38;5;28;01melse\u001b[39;00m:\n",
      "File \u001b[1;32mc:\\Users\\Francis\\00_ML\\00_Power BI\\docu1\\env\\lib\\site-packages\\pandas\\util\\_decorators.py:333\u001b[0m, in \u001b[0;36mdeprecate_nonkeyword_arguments.<locals>.decorate.<locals>.wrapper\u001b[1;34m(*args, **kwargs)\u001b[0m\n\u001b[0;32m    327\u001b[0m \u001b[38;5;28;01mif\u001b[39;00m \u001b[38;5;28mlen\u001b[39m(args) \u001b[38;5;241m>\u001b[39m num_allow_args:\n\u001b[0;32m    328\u001b[0m     warnings\u001b[38;5;241m.\u001b[39mwarn(\n\u001b[0;32m    329\u001b[0m         msg\u001b[38;5;241m.\u001b[39mformat(arguments\u001b[38;5;241m=\u001b[39m_format_argument_list(allow_args)),\n\u001b[0;32m    330\u001b[0m         \u001b[38;5;167;01mFutureWarning\u001b[39;00m,\n\u001b[0;32m    331\u001b[0m         stacklevel\u001b[38;5;241m=\u001b[39mfind_stack_level(),\n\u001b[0;32m    332\u001b[0m     )\n\u001b[1;32m--> 333\u001b[0m \u001b[38;5;28;01mreturn\u001b[39;00m func(\u001b[38;5;241m*\u001b[39margs, \u001b[38;5;241m*\u001b[39m\u001b[38;5;241m*\u001b[39mkwargs)\n",
      "File \u001b[1;32mc:\\Users\\Francis\\00_ML\\00_Power BI\\docu1\\env\\lib\\site-packages\\pandas\\core\\generic.py:3087\u001b[0m, in \u001b[0;36mNDFrame.to_sql\u001b[1;34m(self, name, con, schema, if_exists, index, index_label, chunksize, dtype, method)\u001b[0m\n\u001b[0;32m   2889\u001b[0m \u001b[38;5;250m\u001b[39m\u001b[38;5;124;03m\"\"\"\u001b[39;00m\n\u001b[0;32m   2890\u001b[0m \u001b[38;5;124;03mWrite records stored in a DataFrame to a SQL database.\u001b[39;00m\n\u001b[0;32m   2891\u001b[0m \n\u001b[1;32m   (...)\u001b[0m\n\u001b[0;32m   3083\u001b[0m \u001b[38;5;124;03m[(1,), (None,), (2,)]\u001b[39;00m\n\u001b[0;32m   3084\u001b[0m \u001b[38;5;124;03m\"\"\"\u001b[39;00m  \u001b[38;5;66;03m# noqa: E501\u001b[39;00m\n\u001b[0;32m   3085\u001b[0m \u001b[38;5;28;01mfrom\u001b[39;00m \u001b[38;5;21;01mpandas\u001b[39;00m\u001b[38;5;21;01m.\u001b[39;00m\u001b[38;5;21;01mio\u001b[39;00m \u001b[38;5;28;01mimport\u001b[39;00m sql\n\u001b[1;32m-> 3087\u001b[0m \u001b[38;5;28;01mreturn\u001b[39;00m \u001b[43msql\u001b[49m\u001b[38;5;241;43m.\u001b[39;49m\u001b[43mto_sql\u001b[49m\u001b[43m(\u001b[49m\n\u001b[0;32m   3088\u001b[0m \u001b[43m    \u001b[49m\u001b[38;5;28;43mself\u001b[39;49m\u001b[43m,\u001b[49m\n\u001b[0;32m   3089\u001b[0m \u001b[43m    \u001b[49m\u001b[43mname\u001b[49m\u001b[43m,\u001b[49m\n\u001b[0;32m   3090\u001b[0m \u001b[43m    \u001b[49m\u001b[43mcon\u001b[49m\u001b[43m,\u001b[49m\n\u001b[0;32m   3091\u001b[0m \u001b[43m    \u001b[49m\u001b[43mschema\u001b[49m\u001b[38;5;241;43m=\u001b[39;49m\u001b[43mschema\u001b[49m\u001b[43m,\u001b[49m\n\u001b[0;32m   3092\u001b[0m \u001b[43m    \u001b[49m\u001b[43mif_exists\u001b[49m\u001b[38;5;241;43m=\u001b[39;49m\u001b[43mif_exists\u001b[49m\u001b[43m,\u001b[49m\n\u001b[0;32m   3093\u001b[0m \u001b[43m    \u001b[49m\u001b[43mindex\u001b[49m\u001b[38;5;241;43m=\u001b[39;49m\u001b[43mindex\u001b[49m\u001b[43m,\u001b[49m\n\u001b[0;32m   3094\u001b[0m \u001b[43m    \u001b[49m\u001b[43mindex_label\u001b[49m\u001b[38;5;241;43m=\u001b[39;49m\u001b[43mindex_label\u001b[49m\u001b[43m,\u001b[49m\n\u001b[0;32m   3095\u001b[0m \u001b[43m    \u001b[49m\u001b[43mchunksize\u001b[49m\u001b[38;5;241;43m=\u001b[39;49m\u001b[43mchunksize\u001b[49m\u001b[43m,\u001b[49m\n\u001b[0;32m   3096\u001b[0m \u001b[43m    \u001b[49m\u001b[43mdtype\u001b[49m\u001b[38;5;241;43m=\u001b[39;49m\u001b[43mdtype\u001b[49m\u001b[43m,\u001b[49m\n\u001b[0;32m   3097\u001b[0m \u001b[43m    \u001b[49m\u001b[43mmethod\u001b[49m\u001b[38;5;241;43m=\u001b[39;49m\u001b[43mmethod\u001b[49m\u001b[43m,\u001b[49m\n\u001b[0;32m   3098\u001b[0m \u001b[43m\u001b[49m\u001b[43m)\u001b[49m\n",
      "File \u001b[1;32mc:\\Users\\Francis\\00_ML\\00_Power BI\\docu1\\env\\lib\\site-packages\\pandas\\io\\sql.py:842\u001b[0m, in \u001b[0;36mto_sql\u001b[1;34m(frame, name, con, schema, if_exists, index, index_label, chunksize, dtype, method, engine, **engine_kwargs)\u001b[0m\n\u001b[0;32m    837\u001b[0m     \u001b[38;5;28;01mraise\u001b[39;00m \u001b[38;5;167;01mNotImplementedError\u001b[39;00m(\n\u001b[0;32m    838\u001b[0m         \u001b[38;5;124m\"\u001b[39m\u001b[38;5;124m'\u001b[39m\u001b[38;5;124mframe\u001b[39m\u001b[38;5;124m'\u001b[39m\u001b[38;5;124m argument should be either a Series or a DataFrame\u001b[39m\u001b[38;5;124m\"\u001b[39m\n\u001b[0;32m    839\u001b[0m     )\n\u001b[0;32m    841\u001b[0m \u001b[38;5;28;01mwith\u001b[39;00m pandasSQL_builder(con, schema\u001b[38;5;241m=\u001b[39mschema, need_transaction\u001b[38;5;241m=\u001b[39m\u001b[38;5;28;01mTrue\u001b[39;00m) \u001b[38;5;28;01mas\u001b[39;00m pandas_sql:\n\u001b[1;32m--> 842\u001b[0m     \u001b[38;5;28;01mreturn\u001b[39;00m pandas_sql\u001b[38;5;241m.\u001b[39mto_sql(\n\u001b[0;32m    843\u001b[0m         frame,\n\u001b[0;32m    844\u001b[0m         name,\n\u001b[0;32m    845\u001b[0m         if_exists\u001b[38;5;241m=\u001b[39mif_exists,\n\u001b[0;32m    846\u001b[0m         index\u001b[38;5;241m=\u001b[39mindex,\n\u001b[0;32m    847\u001b[0m         index_label\u001b[38;5;241m=\u001b[39mindex_label,\n\u001b[0;32m    848\u001b[0m         schema\u001b[38;5;241m=\u001b[39mschema,\n\u001b[0;32m    849\u001b[0m         chunksize\u001b[38;5;241m=\u001b[39mchunksize,\n\u001b[0;32m    850\u001b[0m         dtype\u001b[38;5;241m=\u001b[39mdtype,\n\u001b[0;32m    851\u001b[0m         method\u001b[38;5;241m=\u001b[39mmethod,\n\u001b[0;32m    852\u001b[0m         engine\u001b[38;5;241m=\u001b[39mengine,\n\u001b[0;32m    853\u001b[0m         \u001b[38;5;241m*\u001b[39m\u001b[38;5;241m*\u001b[39mengine_kwargs,\n\u001b[0;32m    854\u001b[0m     )\n",
      "File \u001b[1;32mc:\\Users\\Francis\\00_ML\\00_Power BI\\docu1\\env\\lib\\site-packages\\pandas\\io\\sql.py:2018\u001b[0m, in \u001b[0;36mSQLDatabase.to_sql\u001b[1;34m(self, frame, name, if_exists, index, index_label, schema, chunksize, dtype, method, engine, **engine_kwargs)\u001b[0m\n\u001b[0;32m   2006\u001b[0m sql_engine \u001b[38;5;241m=\u001b[39m get_engine(engine)\n\u001b[0;32m   2008\u001b[0m table \u001b[38;5;241m=\u001b[39m \u001b[38;5;28mself\u001b[39m\u001b[38;5;241m.\u001b[39mprep_table(\n\u001b[0;32m   2009\u001b[0m     frame\u001b[38;5;241m=\u001b[39mframe,\n\u001b[0;32m   2010\u001b[0m     name\u001b[38;5;241m=\u001b[39mname,\n\u001b[1;32m   (...)\u001b[0m\n\u001b[0;32m   2015\u001b[0m     dtype\u001b[38;5;241m=\u001b[39mdtype,\n\u001b[0;32m   2016\u001b[0m )\n\u001b[1;32m-> 2018\u001b[0m total_inserted \u001b[38;5;241m=\u001b[39m sql_engine\u001b[38;5;241m.\u001b[39minsert_records(\n\u001b[0;32m   2019\u001b[0m     table\u001b[38;5;241m=\u001b[39mtable,\n\u001b[0;32m   2020\u001b[0m     con\u001b[38;5;241m=\u001b[39m\u001b[38;5;28mself\u001b[39m\u001b[38;5;241m.\u001b[39mcon,\n\u001b[0;32m   2021\u001b[0m     frame\u001b[38;5;241m=\u001b[39mframe,\n\u001b[0;32m   2022\u001b[0m     name\u001b[38;5;241m=\u001b[39mname,\n\u001b[0;32m   2023\u001b[0m     index\u001b[38;5;241m=\u001b[39mindex,\n\u001b[0;32m   2024\u001b[0m     schema\u001b[38;5;241m=\u001b[39mschema,\n\u001b[0;32m   2025\u001b[0m     chunksize\u001b[38;5;241m=\u001b[39mchunksize,\n\u001b[0;32m   2026\u001b[0m     method\u001b[38;5;241m=\u001b[39mmethod,\n\u001b[0;32m   2027\u001b[0m     \u001b[38;5;241m*\u001b[39m\u001b[38;5;241m*\u001b[39mengine_kwargs,\n\u001b[0;32m   2028\u001b[0m )\n\u001b[0;32m   2030\u001b[0m \u001b[38;5;28mself\u001b[39m\u001b[38;5;241m.\u001b[39mcheck_case_sensitive(name\u001b[38;5;241m=\u001b[39mname, schema\u001b[38;5;241m=\u001b[39mschema)\n\u001b[0;32m   2031\u001b[0m \u001b[38;5;28;01mreturn\u001b[39;00m total_inserted\n",
      "File \u001b[1;32mc:\\Users\\Francis\\00_ML\\00_Power BI\\docu1\\env\\lib\\site-packages\\pandas\\io\\sql.py:1567\u001b[0m, in \u001b[0;36mSQLAlchemyEngine.insert_records\u001b[1;34m(self, table, con, frame, name, index, schema, chunksize, method, **engine_kwargs)\u001b[0m\n\u001b[0;32m   1565\u001b[0m \u001b[38;5;28;01mif\u001b[39;00m re\u001b[38;5;241m.\u001b[39msearch(msg, err_text):\n\u001b[0;32m   1566\u001b[0m     \u001b[38;5;28;01mraise\u001b[39;00m \u001b[38;5;167;01mValueError\u001b[39;00m(\u001b[38;5;124m\"\u001b[39m\u001b[38;5;124minf cannot be used with MySQL\u001b[39m\u001b[38;5;124m\"\u001b[39m) \u001b[38;5;28;01mfrom\u001b[39;00m \u001b[38;5;21;01merr\u001b[39;00m\n\u001b[1;32m-> 1567\u001b[0m \u001b[38;5;28;01mraise\u001b[39;00m err\n",
      "File \u001b[1;32mc:\\Users\\Francis\\00_ML\\00_Power BI\\docu1\\env\\lib\\site-packages\\pandas\\io\\sql.py:1558\u001b[0m, in \u001b[0;36mSQLAlchemyEngine.insert_records\u001b[1;34m(self, table, con, frame, name, index, schema, chunksize, method, **engine_kwargs)\u001b[0m\n\u001b[0;32m   1555\u001b[0m \u001b[38;5;28;01mfrom\u001b[39;00m \u001b[38;5;21;01msqlalchemy\u001b[39;00m \u001b[38;5;28;01mimport\u001b[39;00m exc\n\u001b[0;32m   1557\u001b[0m \u001b[38;5;28;01mtry\u001b[39;00m:\n\u001b[1;32m-> 1558\u001b[0m     \u001b[38;5;28;01mreturn\u001b[39;00m \u001b[43mtable\u001b[49m\u001b[38;5;241;43m.\u001b[39;49m\u001b[43minsert\u001b[49m\u001b[43m(\u001b[49m\u001b[43mchunksize\u001b[49m\u001b[38;5;241;43m=\u001b[39;49m\u001b[43mchunksize\u001b[49m\u001b[43m,\u001b[49m\u001b[43m \u001b[49m\u001b[43mmethod\u001b[49m\u001b[38;5;241;43m=\u001b[39;49m\u001b[43mmethod\u001b[49m\u001b[43m)\u001b[49m\n\u001b[0;32m   1559\u001b[0m \u001b[38;5;28;01mexcept\u001b[39;00m exc\u001b[38;5;241m.\u001b[39mStatementError \u001b[38;5;28;01mas\u001b[39;00m err:\n\u001b[0;32m   1560\u001b[0m     \u001b[38;5;66;03m# GH34431\u001b[39;00m\n\u001b[0;32m   1561\u001b[0m     \u001b[38;5;66;03m# https://stackoverflow.com/a/67358288/6067848\u001b[39;00m\n\u001b[0;32m   1562\u001b[0m     msg \u001b[38;5;241m=\u001b[39m \u001b[38;5;124mr\u001b[39m\u001b[38;5;124m\"\"\"\u001b[39m\u001b[38;5;124m(\u001b[39m\u001b[38;5;124m\\\u001b[39m\u001b[38;5;124m(1054, \u001b[39m\u001b[38;5;124m\"\u001b[39m\u001b[38;5;124mUnknown column \u001b[39m\u001b[38;5;124m'\u001b[39m\u001b[38;5;124minf(e0)?\u001b[39m\u001b[38;5;124m'\u001b[39m\u001b[38;5;124m in \u001b[39m\u001b[38;5;124m'\u001b[39m\u001b[38;5;124mfield list\u001b[39m\u001b[38;5;124m'\u001b[39m\u001b[38;5;124m\"\u001b[39m\u001b[38;5;124m\\\u001b[39m\u001b[38;5;124m))(?#\u001b[39m\n\u001b[0;32m   1563\u001b[0m \u001b[38;5;124m    )|inf can not be used with MySQL\u001b[39m\u001b[38;5;124m\"\"\"\u001b[39m\n",
      "File \u001b[1;32mc:\\Users\\Francis\\00_ML\\00_Power BI\\docu1\\env\\lib\\site-packages\\pandas\\io\\sql.py:1119\u001b[0m, in \u001b[0;36mSQLTable.insert\u001b[1;34m(self, chunksize, method)\u001b[0m\n\u001b[0;32m   1116\u001b[0m     \u001b[38;5;28;01mbreak\u001b[39;00m\n\u001b[0;32m   1118\u001b[0m chunk_iter \u001b[38;5;241m=\u001b[39m \u001b[38;5;28mzip\u001b[39m(\u001b[38;5;241m*\u001b[39m(arr[start_i:end_i] \u001b[38;5;28;01mfor\u001b[39;00m arr \u001b[38;5;129;01min\u001b[39;00m data_list))\n\u001b[1;32m-> 1119\u001b[0m num_inserted \u001b[38;5;241m=\u001b[39m \u001b[43mexec_insert\u001b[49m\u001b[43m(\u001b[49m\u001b[43mconn\u001b[49m\u001b[43m,\u001b[49m\u001b[43m \u001b[49m\u001b[43mkeys\u001b[49m\u001b[43m,\u001b[49m\u001b[43m \u001b[49m\u001b[43mchunk_iter\u001b[49m\u001b[43m)\u001b[49m\n\u001b[0;32m   1120\u001b[0m \u001b[38;5;66;03m# GH 46891\u001b[39;00m\n\u001b[0;32m   1121\u001b[0m \u001b[38;5;28;01mif\u001b[39;00m num_inserted \u001b[38;5;129;01mis\u001b[39;00m \u001b[38;5;129;01mnot\u001b[39;00m \u001b[38;5;28;01mNone\u001b[39;00m:\n",
      "File \u001b[1;32mc:\\Users\\Francis\\00_ML\\00_Power BI\\docu1\\env\\lib\\site-packages\\pandas\\io\\sql.py:1010\u001b[0m, in \u001b[0;36mSQLTable._execute_insert\u001b[1;34m(self, conn, keys, data_iter)\u001b[0m\n\u001b[0;32m    998\u001b[0m \u001b[38;5;250m\u001b[39m\u001b[38;5;124;03m\"\"\"\u001b[39;00m\n\u001b[0;32m    999\u001b[0m \u001b[38;5;124;03mExecute SQL statement inserting data\u001b[39;00m\n\u001b[0;32m   1000\u001b[0m \n\u001b[1;32m   (...)\u001b[0m\n\u001b[0;32m   1007\u001b[0m \u001b[38;5;124;03m   Each item contains a list of values to be inserted\u001b[39;00m\n\u001b[0;32m   1008\u001b[0m \u001b[38;5;124;03m\"\"\"\u001b[39;00m\n\u001b[0;32m   1009\u001b[0m data \u001b[38;5;241m=\u001b[39m [\u001b[38;5;28mdict\u001b[39m(\u001b[38;5;28mzip\u001b[39m(keys, row)) \u001b[38;5;28;01mfor\u001b[39;00m row \u001b[38;5;129;01min\u001b[39;00m data_iter]\n\u001b[1;32m-> 1010\u001b[0m result \u001b[38;5;241m=\u001b[39m \u001b[43mconn\u001b[49m\u001b[38;5;241;43m.\u001b[39;49m\u001b[43mexecute\u001b[49m\u001b[43m(\u001b[49m\u001b[38;5;28;43mself\u001b[39;49m\u001b[38;5;241;43m.\u001b[39;49m\u001b[43mtable\u001b[49m\u001b[38;5;241;43m.\u001b[39;49m\u001b[43minsert\u001b[49m\u001b[43m(\u001b[49m\u001b[43m)\u001b[49m\u001b[43m,\u001b[49m\u001b[43m \u001b[49m\u001b[43mdata\u001b[49m\u001b[43m)\u001b[49m\n\u001b[0;32m   1011\u001b[0m \u001b[38;5;28;01mreturn\u001b[39;00m result\u001b[38;5;241m.\u001b[39mrowcount\n",
      "File \u001b[1;32mc:\\Users\\Francis\\00_ML\\00_Power BI\\docu1\\env\\lib\\site-packages\\sqlalchemy\\engine\\base.py:1418\u001b[0m, in \u001b[0;36mConnection.execute\u001b[1;34m(self, statement, parameters, execution_options)\u001b[0m\n\u001b[0;32m   1416\u001b[0m     \u001b[38;5;28;01mraise\u001b[39;00m exc\u001b[38;5;241m.\u001b[39mObjectNotExecutableError(statement) \u001b[38;5;28;01mfrom\u001b[39;00m \u001b[38;5;21;01merr\u001b[39;00m\n\u001b[0;32m   1417\u001b[0m \u001b[38;5;28;01melse\u001b[39;00m:\n\u001b[1;32m-> 1418\u001b[0m     \u001b[38;5;28;01mreturn\u001b[39;00m \u001b[43mmeth\u001b[49m\u001b[43m(\u001b[49m\n\u001b[0;32m   1419\u001b[0m \u001b[43m        \u001b[49m\u001b[38;5;28;43mself\u001b[39;49m\u001b[43m,\u001b[49m\n\u001b[0;32m   1420\u001b[0m \u001b[43m        \u001b[49m\u001b[43mdistilled_parameters\u001b[49m\u001b[43m,\u001b[49m\n\u001b[0;32m   1421\u001b[0m \u001b[43m        \u001b[49m\u001b[43mexecution_options\u001b[49m\u001b[43m \u001b[49m\u001b[38;5;129;43;01mor\u001b[39;49;00m\u001b[43m \u001b[49m\u001b[43mNO_OPTIONS\u001b[49m\u001b[43m,\u001b[49m\n\u001b[0;32m   1422\u001b[0m \u001b[43m    \u001b[49m\u001b[43m)\u001b[49m\n",
      "File \u001b[1;32mc:\\Users\\Francis\\00_ML\\00_Power BI\\docu1\\env\\lib\\site-packages\\sqlalchemy\\sql\\elements.py:515\u001b[0m, in \u001b[0;36mClauseElement._execute_on_connection\u001b[1;34m(self, connection, distilled_params, execution_options)\u001b[0m\n\u001b[0;32m    513\u001b[0m     \u001b[38;5;28;01mif\u001b[39;00m TYPE_CHECKING:\n\u001b[0;32m    514\u001b[0m         \u001b[38;5;28;01massert\u001b[39;00m \u001b[38;5;28misinstance\u001b[39m(\u001b[38;5;28mself\u001b[39m, Executable)\n\u001b[1;32m--> 515\u001b[0m     \u001b[38;5;28;01mreturn\u001b[39;00m \u001b[43mconnection\u001b[49m\u001b[38;5;241;43m.\u001b[39;49m\u001b[43m_execute_clauseelement\u001b[49m\u001b[43m(\u001b[49m\n\u001b[0;32m    516\u001b[0m \u001b[43m        \u001b[49m\u001b[38;5;28;43mself\u001b[39;49m\u001b[43m,\u001b[49m\u001b[43m \u001b[49m\u001b[43mdistilled_params\u001b[49m\u001b[43m,\u001b[49m\u001b[43m \u001b[49m\u001b[43mexecution_options\u001b[49m\n\u001b[0;32m    517\u001b[0m \u001b[43m    \u001b[49m\u001b[43m)\u001b[49m\n\u001b[0;32m    518\u001b[0m \u001b[38;5;28;01melse\u001b[39;00m:\n\u001b[0;32m    519\u001b[0m     \u001b[38;5;28;01mraise\u001b[39;00m exc\u001b[38;5;241m.\u001b[39mObjectNotExecutableError(\u001b[38;5;28mself\u001b[39m)\n",
      "File \u001b[1;32mc:\\Users\\Francis\\00_ML\\00_Power BI\\docu1\\env\\lib\\site-packages\\sqlalchemy\\engine\\base.py:1640\u001b[0m, in \u001b[0;36mConnection._execute_clauseelement\u001b[1;34m(self, elem, distilled_parameters, execution_options)\u001b[0m\n\u001b[0;32m   1628\u001b[0m compiled_cache: Optional[CompiledCacheType] \u001b[38;5;241m=\u001b[39m execution_options\u001b[38;5;241m.\u001b[39mget(\n\u001b[0;32m   1629\u001b[0m     \u001b[38;5;124m\"\u001b[39m\u001b[38;5;124mcompiled_cache\u001b[39m\u001b[38;5;124m\"\u001b[39m, \u001b[38;5;28mself\u001b[39m\u001b[38;5;241m.\u001b[39mengine\u001b[38;5;241m.\u001b[39m_compiled_cache\n\u001b[0;32m   1630\u001b[0m )\n\u001b[0;32m   1632\u001b[0m compiled_sql, extracted_params, cache_hit \u001b[38;5;241m=\u001b[39m elem\u001b[38;5;241m.\u001b[39m_compile_w_cache(\n\u001b[0;32m   1633\u001b[0m     dialect\u001b[38;5;241m=\u001b[39mdialect,\n\u001b[0;32m   1634\u001b[0m     compiled_cache\u001b[38;5;241m=\u001b[39mcompiled_cache,\n\u001b[1;32m   (...)\u001b[0m\n\u001b[0;32m   1638\u001b[0m     linting\u001b[38;5;241m=\u001b[39m\u001b[38;5;28mself\u001b[39m\u001b[38;5;241m.\u001b[39mdialect\u001b[38;5;241m.\u001b[39mcompiler_linting \u001b[38;5;241m|\u001b[39m compiler\u001b[38;5;241m.\u001b[39mWARN_LINTING,\n\u001b[0;32m   1639\u001b[0m )\n\u001b[1;32m-> 1640\u001b[0m ret \u001b[38;5;241m=\u001b[39m \u001b[38;5;28;43mself\u001b[39;49m\u001b[38;5;241;43m.\u001b[39;49m\u001b[43m_execute_context\u001b[49m\u001b[43m(\u001b[49m\n\u001b[0;32m   1641\u001b[0m \u001b[43m    \u001b[49m\u001b[43mdialect\u001b[49m\u001b[43m,\u001b[49m\n\u001b[0;32m   1642\u001b[0m \u001b[43m    \u001b[49m\u001b[43mdialect\u001b[49m\u001b[38;5;241;43m.\u001b[39;49m\u001b[43mexecution_ctx_cls\u001b[49m\u001b[38;5;241;43m.\u001b[39;49m\u001b[43m_init_compiled\u001b[49m\u001b[43m,\u001b[49m\n\u001b[0;32m   1643\u001b[0m \u001b[43m    \u001b[49m\u001b[43mcompiled_sql\u001b[49m\u001b[43m,\u001b[49m\n\u001b[0;32m   1644\u001b[0m \u001b[43m    \u001b[49m\u001b[43mdistilled_parameters\u001b[49m\u001b[43m,\u001b[49m\n\u001b[0;32m   1645\u001b[0m \u001b[43m    \u001b[49m\u001b[43mexecution_options\u001b[49m\u001b[43m,\u001b[49m\n\u001b[0;32m   1646\u001b[0m \u001b[43m    \u001b[49m\u001b[43mcompiled_sql\u001b[49m\u001b[43m,\u001b[49m\n\u001b[0;32m   1647\u001b[0m \u001b[43m    \u001b[49m\u001b[43mdistilled_parameters\u001b[49m\u001b[43m,\u001b[49m\n\u001b[0;32m   1648\u001b[0m \u001b[43m    \u001b[49m\u001b[43melem\u001b[49m\u001b[43m,\u001b[49m\n\u001b[0;32m   1649\u001b[0m \u001b[43m    \u001b[49m\u001b[43mextracted_params\u001b[49m\u001b[43m,\u001b[49m\n\u001b[0;32m   1650\u001b[0m \u001b[43m    \u001b[49m\u001b[43mcache_hit\u001b[49m\u001b[38;5;241;43m=\u001b[39;49m\u001b[43mcache_hit\u001b[49m\u001b[43m,\u001b[49m\n\u001b[0;32m   1651\u001b[0m \u001b[43m\u001b[49m\u001b[43m)\u001b[49m\n\u001b[0;32m   1652\u001b[0m \u001b[38;5;28;01mif\u001b[39;00m has_events:\n\u001b[0;32m   1653\u001b[0m     \u001b[38;5;28mself\u001b[39m\u001b[38;5;241m.\u001b[39mdispatch\u001b[38;5;241m.\u001b[39mafter_execute(\n\u001b[0;32m   1654\u001b[0m         \u001b[38;5;28mself\u001b[39m,\n\u001b[0;32m   1655\u001b[0m         elem,\n\u001b[1;32m   (...)\u001b[0m\n\u001b[0;32m   1659\u001b[0m         ret,\n\u001b[0;32m   1660\u001b[0m     )\n",
      "File \u001b[1;32mc:\\Users\\Francis\\00_ML\\00_Power BI\\docu1\\env\\lib\\site-packages\\sqlalchemy\\engine\\base.py:1844\u001b[0m, in \u001b[0;36mConnection._execute_context\u001b[1;34m(self, dialect, constructor, statement, parameters, execution_options, *args, **kw)\u001b[0m\n\u001b[0;32m   1841\u001b[0m context\u001b[38;5;241m.\u001b[39mpre_exec()\n\u001b[0;32m   1843\u001b[0m \u001b[38;5;28;01mif\u001b[39;00m context\u001b[38;5;241m.\u001b[39mexecute_style \u001b[38;5;129;01mis\u001b[39;00m ExecuteStyle\u001b[38;5;241m.\u001b[39mINSERTMANYVALUES:\n\u001b[1;32m-> 1844\u001b[0m     \u001b[38;5;28;01mreturn\u001b[39;00m \u001b[38;5;28;43mself\u001b[39;49m\u001b[38;5;241;43m.\u001b[39;49m\u001b[43m_exec_insertmany_context\u001b[49m\u001b[43m(\u001b[49m\u001b[43mdialect\u001b[49m\u001b[43m,\u001b[49m\u001b[43m \u001b[49m\u001b[43mcontext\u001b[49m\u001b[43m)\u001b[49m\n\u001b[0;32m   1845\u001b[0m \u001b[38;5;28;01melse\u001b[39;00m:\n\u001b[0;32m   1846\u001b[0m     \u001b[38;5;28;01mreturn\u001b[39;00m \u001b[38;5;28mself\u001b[39m\u001b[38;5;241m.\u001b[39m_exec_single_context(\n\u001b[0;32m   1847\u001b[0m         dialect, context, statement, parameters\n\u001b[0;32m   1848\u001b[0m     )\n",
      "File \u001b[1;32mc:\\Users\\Francis\\00_ML\\00_Power BI\\docu1\\env\\lib\\site-packages\\sqlalchemy\\engine\\base.py:2124\u001b[0m, in \u001b[0;36mConnection._exec_insertmany_context\u001b[1;34m(self, dialect, context)\u001b[0m\n\u001b[0;32m   2116\u001b[0m         dialect\u001b[38;5;241m.\u001b[39mdo_execute(\n\u001b[0;32m   2117\u001b[0m             cursor,\n\u001b[0;32m   2118\u001b[0m             sub_stmt,\n\u001b[0;32m   2119\u001b[0m             sub_params,\n\u001b[0;32m   2120\u001b[0m             context,\n\u001b[0;32m   2121\u001b[0m         )\n\u001b[0;32m   2123\u001b[0m \u001b[38;5;28;01mexcept\u001b[39;00m \u001b[38;5;167;01mBaseException\u001b[39;00m \u001b[38;5;28;01mas\u001b[39;00m e:\n\u001b[1;32m-> 2124\u001b[0m     \u001b[38;5;28;43mself\u001b[39;49m\u001b[38;5;241;43m.\u001b[39;49m\u001b[43m_handle_dbapi_exception\u001b[49m\u001b[43m(\u001b[49m\n\u001b[0;32m   2125\u001b[0m \u001b[43m        \u001b[49m\u001b[43me\u001b[49m\u001b[43m,\u001b[49m\n\u001b[0;32m   2126\u001b[0m \u001b[43m        \u001b[49m\u001b[43msql_util\u001b[49m\u001b[38;5;241;43m.\u001b[39;49m\u001b[43m_long_statement\u001b[49m\u001b[43m(\u001b[49m\u001b[43msub_stmt\u001b[49m\u001b[43m)\u001b[49m\u001b[43m,\u001b[49m\n\u001b[0;32m   2127\u001b[0m \u001b[43m        \u001b[49m\u001b[43msub_params\u001b[49m\u001b[43m,\u001b[49m\n\u001b[0;32m   2128\u001b[0m \u001b[43m        \u001b[49m\u001b[43mcursor\u001b[49m\u001b[43m,\u001b[49m\n\u001b[0;32m   2129\u001b[0m \u001b[43m        \u001b[49m\u001b[43mcontext\u001b[49m\u001b[43m,\u001b[49m\n\u001b[0;32m   2130\u001b[0m \u001b[43m        \u001b[49m\u001b[43mis_sub_exec\u001b[49m\u001b[38;5;241;43m=\u001b[39;49m\u001b[38;5;28;43;01mTrue\u001b[39;49;00m\u001b[43m,\u001b[49m\n\u001b[0;32m   2131\u001b[0m \u001b[43m    \u001b[49m\u001b[43m)\u001b[49m\n\u001b[0;32m   2133\u001b[0m \u001b[38;5;28;01mif\u001b[39;00m engine_events:\n\u001b[0;32m   2134\u001b[0m     \u001b[38;5;28mself\u001b[39m\u001b[38;5;241m.\u001b[39mdispatch\u001b[38;5;241m.\u001b[39mafter_cursor_execute(\n\u001b[0;32m   2135\u001b[0m         \u001b[38;5;28mself\u001b[39m,\n\u001b[0;32m   2136\u001b[0m         cursor,\n\u001b[1;32m   (...)\u001b[0m\n\u001b[0;32m   2140\u001b[0m         context\u001b[38;5;241m.\u001b[39mexecutemany,\n\u001b[0;32m   2141\u001b[0m     )\n",
      "File \u001b[1;32mc:\\Users\\Francis\\00_ML\\00_Power BI\\docu1\\env\\lib\\site-packages\\sqlalchemy\\engine\\base.py:2353\u001b[0m, in \u001b[0;36mConnection._handle_dbapi_exception\u001b[1;34m(self, e, statement, parameters, cursor, context, is_sub_exec)\u001b[0m\n\u001b[0;32m   2351\u001b[0m \u001b[38;5;28;01melif\u001b[39;00m should_wrap:\n\u001b[0;32m   2352\u001b[0m     \u001b[38;5;28;01massert\u001b[39;00m sqlalchemy_exception \u001b[38;5;129;01mis\u001b[39;00m \u001b[38;5;129;01mnot\u001b[39;00m \u001b[38;5;28;01mNone\u001b[39;00m\n\u001b[1;32m-> 2353\u001b[0m     \u001b[38;5;28;01mraise\u001b[39;00m sqlalchemy_exception\u001b[38;5;241m.\u001b[39mwith_traceback(exc_info[\u001b[38;5;241m2\u001b[39m]) \u001b[38;5;28;01mfrom\u001b[39;00m \u001b[38;5;21;01me\u001b[39;00m\n\u001b[0;32m   2354\u001b[0m \u001b[38;5;28;01melse\u001b[39;00m:\n\u001b[0;32m   2355\u001b[0m     \u001b[38;5;28;01massert\u001b[39;00m exc_info[\u001b[38;5;241m1\u001b[39m] \u001b[38;5;129;01mis\u001b[39;00m \u001b[38;5;129;01mnot\u001b[39;00m \u001b[38;5;28;01mNone\u001b[39;00m\n",
      "File \u001b[1;32mc:\\Users\\Francis\\00_ML\\00_Power BI\\docu1\\env\\lib\\site-packages\\sqlalchemy\\engine\\base.py:2116\u001b[0m, in \u001b[0;36mConnection._exec_insertmany_context\u001b[1;34m(self, dialect, context)\u001b[0m\n\u001b[0;32m   2114\u001b[0m             \u001b[38;5;28;01mbreak\u001b[39;00m\n\u001b[0;32m   2115\u001b[0m     \u001b[38;5;28;01melse\u001b[39;00m:\n\u001b[1;32m-> 2116\u001b[0m         \u001b[43mdialect\u001b[49m\u001b[38;5;241;43m.\u001b[39;49m\u001b[43mdo_execute\u001b[49m\u001b[43m(\u001b[49m\n\u001b[0;32m   2117\u001b[0m \u001b[43m            \u001b[49m\u001b[43mcursor\u001b[49m\u001b[43m,\u001b[49m\n\u001b[0;32m   2118\u001b[0m \u001b[43m            \u001b[49m\u001b[43msub_stmt\u001b[49m\u001b[43m,\u001b[49m\n\u001b[0;32m   2119\u001b[0m \u001b[43m            \u001b[49m\u001b[43msub_params\u001b[49m\u001b[43m,\u001b[49m\n\u001b[0;32m   2120\u001b[0m \u001b[43m            \u001b[49m\u001b[43mcontext\u001b[49m\u001b[43m,\u001b[49m\n\u001b[0;32m   2121\u001b[0m \u001b[43m        \u001b[49m\u001b[43m)\u001b[49m\n\u001b[0;32m   2123\u001b[0m \u001b[38;5;28;01mexcept\u001b[39;00m \u001b[38;5;167;01mBaseException\u001b[39;00m \u001b[38;5;28;01mas\u001b[39;00m e:\n\u001b[0;32m   2124\u001b[0m     \u001b[38;5;28mself\u001b[39m\u001b[38;5;241m.\u001b[39m_handle_dbapi_exception(\n\u001b[0;32m   2125\u001b[0m         e,\n\u001b[0;32m   2126\u001b[0m         sql_util\u001b[38;5;241m.\u001b[39m_long_statement(sub_stmt),\n\u001b[1;32m   (...)\u001b[0m\n\u001b[0;32m   2130\u001b[0m         is_sub_exec\u001b[38;5;241m=\u001b[39m\u001b[38;5;28;01mTrue\u001b[39;00m,\n\u001b[0;32m   2131\u001b[0m     )\n",
      "File \u001b[1;32mc:\\Users\\Francis\\00_ML\\00_Power BI\\docu1\\env\\lib\\site-packages\\sqlalchemy\\engine\\default.py:924\u001b[0m, in \u001b[0;36mDefaultDialect.do_execute\u001b[1;34m(self, cursor, statement, parameters, context)\u001b[0m\n\u001b[0;32m    923\u001b[0m \u001b[38;5;28;01mdef\u001b[39;00m \u001b[38;5;21mdo_execute\u001b[39m(\u001b[38;5;28mself\u001b[39m, cursor, statement, parameters, context\u001b[38;5;241m=\u001b[39m\u001b[38;5;28;01mNone\u001b[39;00m):\n\u001b[1;32m--> 924\u001b[0m     \u001b[43mcursor\u001b[49m\u001b[38;5;241;43m.\u001b[39;49m\u001b[43mexecute\u001b[49m\u001b[43m(\u001b[49m\u001b[43mstatement\u001b[49m\u001b[43m,\u001b[49m\u001b[43m \u001b[49m\u001b[43mparameters\u001b[49m\u001b[43m)\u001b[49m\n",
      "\u001b[1;31mIntegrityError\u001b[0m: (psycopg2.errors.UniqueViolation) duplicate key value violates unique constraint \"items_pkey\"\nDETAIL:  Key (description, project, source)=(mobilization, INDEPENDENT CIP EVAPORATOR - CIR RETURN LINE GOING TO IS 400M3 TANK, INHOUSE) already exists.\n\n[SQL: INSERT INTO items (description, man_r, unit, qty, unit_cost, amount, project, type, date, source) VALUES (%(description__0)s, %(man_r__0)s, %(unit__0)s, %(qty__0)s, %(unit_cost__0)s, %(amount__0)s, %(project__0)s, %(type__0)s, %(date__0)s, %(source__ ... 13660 characters truncated ... 6)s, %(unit_cost__86)s, %(amount__86)s, %(project__86)s, %(type__86)s, %(date__86)s, %(source__86)s)]\n[parameters: {'source__0': 'INHOUSE', 'type__0': 'Mobilization/Demobilization & Housekeeping', 'project__0': 'INDEPENDENT CIP EVAPORATOR - CIR RETURN LINE GOING TO IS 400M3 TANK', 'man_r__0': None, 'description__0': 'mobilization', 'unit__0': 'lot', 'qty__0': 1, 'date__0': None, 'amount__0': 50000.0, 'unit_cost__0': 50000.0, 'source__1': 'INHOUSE', 'type__1': 'Mobilization/Demobilization & Housekeeping', 'project__1': 'INDEPENDENT CIP EVAPORATOR - CIR RETURN LINE GOING TO IS 400M3 TANK', 'man_r__1': None, 'description__1': 'demobilization/housekeeping', 'unit__1': 'lot', 'qty__1': 1, 'date__1': None, 'amount__1': 50000.0, 'unit_cost__1': 50000.0, 'source__2': 'INHOUSE', 'type__2': 'Safety Provisions', 'project__2': 'INDEPENDENT CIP EVAPORATOR - CIR RETURN LINE GOING TO IS 400M3 TANK', 'man_r__2': None, 'description__2': 'cotton gloves', 'unit__2': 'pair', 'qty__2': 480, 'date__2': None, 'amount__2': 12960.0, 'unit_cost__2': 27.0, 'source__3': 'INHOUSE', 'type__3': 'Safety Provisions', 'project__3': 'INDEPENDENT CIP EVAPORATOR - CIR RETURN LINE GOING TO IS 400M3 TANK', 'man_r__3': None, 'description__3': 'dust mask', 'unit__3': 'bxs', 'qty__3': 5, 'date__3': None, 'amount__3': 1385.0, 'unit_cost__3': 277.0, 'source__4': 'INHOUSE', 'type__4': 'Safety Provisions', 'project__4': 'INDEPENDENT CIP EVAPORATOR - CIR RETURN LINE GOING TO IS 400M3 TANK', 'man_r__4': None, 'description__4': 'caution tape', 'unit__4': 'roll', 'qty__4': 1, 'date__4': None, 'amount__4': 1384.0, 'unit_cost__4': 1384.0 ... 770 parameters truncated ... 'source__82': 'INHOUSE', 'type__82': 'Labor', 'project__82': 'INDEPENDENT CIP EVAPORATOR - CIR RETURN LINE GOING TO IS 400M3 TANK', 'man_r__82': 1.0, 'description__82': 'foreman', 'unit__82': 'days', 'qty__82': 40, 'date__82': None, 'amount__82': 38000.0, 'unit_cost__82': 950.0, 'source__83': 'INHOUSE', 'type__83': 'Labor', 'project__83': 'INDEPENDENT CIP EVAPORATOR - CIR RETURN LINE GOING TO IS 400M3 TANK', 'man_r__83': 2.0, 'description__83': 'fabricators/fitter', 'unit__83': 'days', 'qty__83': 40, 'date__83': None, 'amount__83': 72000.0, 'unit_cost__83': 900.0, 'source__84': 'INHOUSE', 'type__84': 'Labor', 'project__84': 'INDEPENDENT CIP EVAPORATOR - CIR RETURN LINE GOING TO IS 400M3 TANK', 'man_r__84': 3.0, 'description__84': 'welders', 'unit__84': 'days', 'qty__84': 40, 'date__84': None, 'amount__84': 108000.0, 'unit_cost__84': 900.0, 'source__85': 'INHOUSE', 'type__85': 'Labor', 'project__85': 'INDEPENDENT CIP EVAPORATOR - CIR RETURN LINE GOING TO IS 400M3 TANK', 'man_r__85': 7.0, 'description__85': 'skilled helpers/scaffolders', 'unit__85': 'days', 'qty__85': 40, 'date__85': None, 'amount__85': 238000.0, 'unit_cost__85': 850.0, 'source__86': 'INHOUSE', 'type__86': 'Labor', 'project__86': 'INDEPENDENT CIP EVAPORATOR - CIR RETURN LINE GOING TO IS 400M3 TANK', 'man_r__86': 1.0, 'description__86': 'electrician', 'unit__86': 'days', 'qty__86': 40, 'date__86': None, 'amount__86': 34000.0, 'unit_cost__86': 850.0}]\n(Background on this error at: https://sqlalche.me/e/20/gkpj)"
     ]
    }
   ],
   "source": [
    "if engine:    \n",
    "    # Append the DataFrame to the table named 'items' in the connected database\n",
    "    data.to_sql('items', engine, if_exists='append', index=False)\n",
    "    print(\"DataFrame appended to the database successfully!\")\n",
    "else:\n",
    "    print(\"Failed to connect to the database.\")\n"
   ]
  },
  {
   "cell_type": "markdown",
   "metadata": {},
   "source": [
    "### STEP 2: Final cleaning"
   ]
  },
  {
   "cell_type": "markdown",
   "metadata": {},
   "source": [
    "### STEP 3: Add project name to \"Project\" table"
   ]
  },
  {
   "cell_type": "markdown",
   "metadata": {},
   "source": [
    "#### STEP 3A: Connect to the database"
   ]
  },
  {
   "cell_type": "markdown",
   "metadata": {},
   "source": [
    "#### STEP 3B: Upload data"
   ]
  },
  {
   "cell_type": "markdown",
   "metadata": {},
   "source": [
    "#### STEP 3C: Close Connection"
   ]
  },
  {
   "cell_type": "code",
   "execution_count": 73,
   "metadata": {},
   "outputs": [],
   "source": [
    "conn.close()"
   ]
  },
  {
   "cell_type": "code",
   "execution_count": 74,
   "metadata": {},
   "outputs": [
    {
     "name": "stdout",
     "output_type": "stream",
     "text": [
      "Connection closed.\n",
      "Engine disposed.\n"
     ]
    }
   ],
   "source": [
    "if conn:\n",
    "    conn.close()\n",
    "    print(\"Connection closed.\")\n",
    "\n",
    "if engine:\n",
    "    engine.dispose()\n",
    "    print(\"Engine disposed.\")"
   ]
  }
 ],
 "metadata": {
  "kernelspec": {
   "display_name": "qout1_venv",
   "language": "python",
   "name": "qout1_venv"
  },
  "language_info": {
   "codemirror_mode": {
    "name": "ipython",
    "version": 3
   },
   "file_extension": ".py",
   "mimetype": "text/x-python",
   "name": "python",
   "nbconvert_exporter": "python",
   "pygments_lexer": "ipython3",
   "version": "3.9.2"
  }
 },
 "nbformat": 4,
 "nbformat_minor": 2
}
